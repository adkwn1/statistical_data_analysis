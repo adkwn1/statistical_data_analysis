{
 "cells": [
  {
   "attachments": {},
   "cell_type": "markdown",
   "metadata": {},
   "source": [
    "## Introduction\n",
    "\n",
    "We are provided data from the telecom operator Megaline. The company offers its clients two prepaid plans, Surf and Ultimate. The commercial department wants to know which of the plans brings in more revenue in order to adjust the advertising budget. We'll conduct a preliminary analysis of the plans based on a relatively small (500) client selection in order to analyze behavior and determine which prepaid plan brings in more revenue. Additionally, we'll conduct hypothesis testing regarding average revenue between users of both plans (one-tail test) as well as comparing the average revenue between two regions (equality of means of two sample populations).\n",
    "\n",
    "The data has been provided in the following .csv files:\n",
    "\n",
    "**megaline_users.csv**\n",
    "- *user_id*: unique user identifier\n",
    "- *first_name*: user's name\n",
    "- *last_name*: user's last name\n",
    "- *age*: user's age in years\n",
    "- *reg_date*: subscription date (YYYY-MM-DD)\n",
    "- *churn_date*: the date the user stopped using the service (if the value is missing, the calling plan was being used when this database was extracted)\n",
    "- *city*: user's city of residence\n",
    "- *plan*: calling plan name\n",
    "\n",
    "**megaline_calls.csv**\n",
    "- *id*: unique call identifier\n",
    "- *call_date*: call date (YYYY-MM-DD)\n",
    "- *duration*: call duration in minutes\n",
    "- *user_id*: the identifier of the user making the call\n",
    "\n",
    "**megaline_messages.csv**\n",
    "- *id*: unique text message identifier\n",
    "- *message_date*: text message date (YYYY-MM-DD)\n",
    "- *user_id*: the identifier of the user sending the text\n",
    "\n",
    "**megaline_internet.csv**\n",
    "- *id*: unique session identifier\n",
    "- *mb_used*: the volume of data spent during the session in megabytes\n",
    "- *session_date*: web session date (YYYY-MM-DD)\n",
    "- *user_id*: user identifier\n",
    "\n",
    "**megaline_plans.csv**\n",
    "- *plan_name*: calling plan name\n",
    "- *usd_monthly_fee*: monthly charge in US dollars\n",
    "- *minutes_included*: monthly minute allowance\n",
    "- *messages_included*: monthly text allowance\n",
    "- *mb_per_month_included*: data volume allowance in megabytes\n",
    "- *usd_per_minute*: price per minute after exceeding the package limits (e.g., if the package includes 100 minutes, the 101st minute will be charged)\n",
    "- *usd_per_message*: price per text after exceeding the package limits\n",
    "- *usd_per_gb*: price per extra gigabyte of data after exceeding the package limits (1 GB = 1024 megabytes)"
   ]
  },
  {
   "attachments": {},
   "cell_type": "markdown",
   "metadata": {},
   "source": [
    "## Initialization"
   ]
  },
  {
   "cell_type": "code",
   "execution_count": 1,
   "metadata": {},
   "outputs": [],
   "source": [
    "import pandas as pd\n",
    "import numpy as np\n",
    "import matplotlib.pyplot as plt\n",
    "from scipy import stats as st"
   ]
  },
  {
   "attachments": {},
   "cell_type": "markdown",
   "metadata": {},
   "source": [
    "## Load data"
   ]
  },
  {
   "cell_type": "code",
   "execution_count": 2,
   "metadata": {},
   "outputs": [],
   "source": [
    "# When cloning this project, ensure directory/file paths are correct with respect to user's operating system\n",
    "\n",
    "df_calls = pd.read_csv('datasets/megaline_calls.csv')\n",
    "df_internet = pd.read_csv('datasets/megaline_internet.csv')\n",
    "df_messages = pd.read_csv('datasets/megaline_messages.csv')\n",
    "df_plans = pd.read_csv('datasets/megaline_plans.csv')\n",
    "df_users = pd.read_csv('datasets/megaline_users.csv')"
   ]
  },
  {
   "attachments": {},
   "cell_type": "markdown",
   "metadata": {},
   "source": [
    "## Data Preprocessing"
   ]
  },
  {
   "attachments": {},
   "cell_type": "markdown",
   "metadata": {},
   "source": [
    "### Megaline Plans"
   ]
  },
  {
   "cell_type": "code",
   "execution_count": 3,
   "metadata": {},
   "outputs": [
    {
     "name": "stdout",
     "output_type": "stream",
     "text": [
      "<class 'pandas.core.frame.DataFrame'>\n",
      "RangeIndex: 2 entries, 0 to 1\n",
      "Data columns (total 8 columns):\n",
      " #   Column                 Non-Null Count  Dtype  \n",
      "---  ------                 --------------  -----  \n",
      " 0   messages_included      2 non-null      int64  \n",
      " 1   mb_per_month_included  2 non-null      int64  \n",
      " 2   minutes_included       2 non-null      int64  \n",
      " 3   usd_monthly_pay        2 non-null      int64  \n",
      " 4   usd_per_gb             2 non-null      int64  \n",
      " 5   usd_per_message        2 non-null      float64\n",
      " 6   usd_per_minute         2 non-null      float64\n",
      " 7   plan_name              2 non-null      object \n",
      "dtypes: float64(2), int64(5), object(1)\n",
      "memory usage: 256.0+ bytes\n"
     ]
    },
    {
     "data": {
      "text/html": [
       "<div>\n",
       "<style scoped>\n",
       "    .dataframe tbody tr th:only-of-type {\n",
       "        vertical-align: middle;\n",
       "    }\n",
       "\n",
       "    .dataframe tbody tr th {\n",
       "        vertical-align: top;\n",
       "    }\n",
       "\n",
       "    .dataframe thead th {\n",
       "        text-align: right;\n",
       "    }\n",
       "</style>\n",
       "<table border=\"1\" class=\"dataframe\">\n",
       "  <thead>\n",
       "    <tr style=\"text-align: right;\">\n",
       "      <th></th>\n",
       "      <th>messages_included</th>\n",
       "      <th>mb_per_month_included</th>\n",
       "      <th>minutes_included</th>\n",
       "      <th>usd_monthly_pay</th>\n",
       "      <th>usd_per_gb</th>\n",
       "      <th>usd_per_message</th>\n",
       "      <th>usd_per_minute</th>\n",
       "      <th>plan_name</th>\n",
       "    </tr>\n",
       "  </thead>\n",
       "  <tbody>\n",
       "    <tr>\n",
       "      <th>0</th>\n",
       "      <td>50</td>\n",
       "      <td>15360</td>\n",
       "      <td>500</td>\n",
       "      <td>20</td>\n",
       "      <td>10</td>\n",
       "      <td>0.03</td>\n",
       "      <td>0.03</td>\n",
       "      <td>surf</td>\n",
       "    </tr>\n",
       "    <tr>\n",
       "      <th>1</th>\n",
       "      <td>1000</td>\n",
       "      <td>30720</td>\n",
       "      <td>3000</td>\n",
       "      <td>70</td>\n",
       "      <td>7</td>\n",
       "      <td>0.01</td>\n",
       "      <td>0.01</td>\n",
       "      <td>ultimate</td>\n",
       "    </tr>\n",
       "  </tbody>\n",
       "</table>\n",
       "</div>"
      ],
      "text/plain": [
       "   messages_included  mb_per_month_included  minutes_included  \\\n",
       "0                 50                  15360               500   \n",
       "1               1000                  30720              3000   \n",
       "\n",
       "   usd_monthly_pay  usd_per_gb  usd_per_message  usd_per_minute plan_name  \n",
       "0               20          10             0.03            0.03      surf  \n",
       "1               70           7             0.01            0.01  ultimate  "
      ]
     },
     "metadata": {},
     "output_type": "display_data"
    }
   ],
   "source": [
    "df_plans.info()\n",
    "display(df_plans)"
   ]
  },
  {
   "attachments": {},
   "cell_type": "markdown",
   "metadata": {},
   "source": [
    "The information above accurately matches the description for the two monthly plans provided by Megaline. The data column is in MB rather than GB, but we can keep the info as is and just add a new column named 'gb_per_month_included' with the appropriate values."
   ]
  },
  {
   "attachments": {},
   "cell_type": "markdown",
   "metadata": {},
   "source": [
    "**Enrich Plans Data**"
   ]
  },
  {
   "attachments": {},
   "cell_type": "markdown",
   "metadata": {},
   "source": [
    "Add column 'gb_per_month_included' with appropriate values."
   ]
  },
  {
   "cell_type": "code",
   "execution_count": 4,
   "metadata": {},
   "outputs": [
    {
     "data": {
      "text/html": [
       "<div>\n",
       "<style scoped>\n",
       "    .dataframe tbody tr th:only-of-type {\n",
       "        vertical-align: middle;\n",
       "    }\n",
       "\n",
       "    .dataframe tbody tr th {\n",
       "        vertical-align: top;\n",
       "    }\n",
       "\n",
       "    .dataframe thead th {\n",
       "        text-align: right;\n",
       "    }\n",
       "</style>\n",
       "<table border=\"1\" class=\"dataframe\">\n",
       "  <thead>\n",
       "    <tr style=\"text-align: right;\">\n",
       "      <th></th>\n",
       "      <th>messages_included</th>\n",
       "      <th>mb_per_month_included</th>\n",
       "      <th>minutes_included</th>\n",
       "      <th>usd_monthly_pay</th>\n",
       "      <th>usd_per_gb</th>\n",
       "      <th>usd_per_message</th>\n",
       "      <th>usd_per_minute</th>\n",
       "      <th>plan_name</th>\n",
       "      <th>gb_per_month_included</th>\n",
       "    </tr>\n",
       "  </thead>\n",
       "  <tbody>\n",
       "    <tr>\n",
       "      <th>0</th>\n",
       "      <td>50</td>\n",
       "      <td>15360</td>\n",
       "      <td>500</td>\n",
       "      <td>20</td>\n",
       "      <td>10</td>\n",
       "      <td>0.03</td>\n",
       "      <td>0.03</td>\n",
       "      <td>surf</td>\n",
       "      <td>15</td>\n",
       "    </tr>\n",
       "    <tr>\n",
       "      <th>1</th>\n",
       "      <td>1000</td>\n",
       "      <td>30720</td>\n",
       "      <td>3000</td>\n",
       "      <td>70</td>\n",
       "      <td>7</td>\n",
       "      <td>0.01</td>\n",
       "      <td>0.01</td>\n",
       "      <td>ultimate</td>\n",
       "      <td>30</td>\n",
       "    </tr>\n",
       "  </tbody>\n",
       "</table>\n",
       "</div>"
      ],
      "text/plain": [
       "   messages_included  mb_per_month_included  minutes_included  \\\n",
       "0                 50                  15360               500   \n",
       "1               1000                  30720              3000   \n",
       "\n",
       "   usd_monthly_pay  usd_per_gb  usd_per_message  usd_per_minute plan_name  \\\n",
       "0               20          10             0.03            0.03      surf   \n",
       "1               70           7             0.01            0.01  ultimate   \n",
       "\n",
       "   gb_per_month_included  \n",
       "0                     15  \n",
       "1                     30  "
      ]
     },
     "metadata": {},
     "output_type": "display_data"
    }
   ],
   "source": [
    "df_plans['gb_per_month_included'] = [15, 30]\n",
    "display(df_plans)"
   ]
  },
  {
   "attachments": {},
   "cell_type": "markdown",
   "metadata": {},
   "source": [
    "### Megaline Users"
   ]
  },
  {
   "cell_type": "code",
   "execution_count": 5,
   "metadata": {},
   "outputs": [
    {
     "name": "stdout",
     "output_type": "stream",
     "text": [
      "<class 'pandas.core.frame.DataFrame'>\n",
      "RangeIndex: 500 entries, 0 to 499\n",
      "Data columns (total 8 columns):\n",
      " #   Column      Non-Null Count  Dtype \n",
      "---  ------      --------------  ----- \n",
      " 0   user_id     500 non-null    int64 \n",
      " 1   first_name  500 non-null    object\n",
      " 2   last_name   500 non-null    object\n",
      " 3   age         500 non-null    int64 \n",
      " 4   city        500 non-null    object\n",
      " 5   reg_date    500 non-null    object\n",
      " 6   plan        500 non-null    object\n",
      " 7   churn_date  34 non-null     object\n",
      "dtypes: int64(2), object(6)\n",
      "memory usage: 31.4+ KB\n"
     ]
    },
    {
     "data": {
      "text/html": [
       "<div>\n",
       "<style scoped>\n",
       "    .dataframe tbody tr th:only-of-type {\n",
       "        vertical-align: middle;\n",
       "    }\n",
       "\n",
       "    .dataframe tbody tr th {\n",
       "        vertical-align: top;\n",
       "    }\n",
       "\n",
       "    .dataframe thead th {\n",
       "        text-align: right;\n",
       "    }\n",
       "</style>\n",
       "<table border=\"1\" class=\"dataframe\">\n",
       "  <thead>\n",
       "    <tr style=\"text-align: right;\">\n",
       "      <th></th>\n",
       "      <th>user_id</th>\n",
       "      <th>first_name</th>\n",
       "      <th>last_name</th>\n",
       "      <th>age</th>\n",
       "      <th>city</th>\n",
       "      <th>reg_date</th>\n",
       "      <th>plan</th>\n",
       "      <th>churn_date</th>\n",
       "    </tr>\n",
       "  </thead>\n",
       "  <tbody>\n",
       "    <tr>\n",
       "      <th>304</th>\n",
       "      <td>1304</td>\n",
       "      <td>Dominque</td>\n",
       "      <td>Cole</td>\n",
       "      <td>69</td>\n",
       "      <td>Birmingham-Hoover, AL MSA</td>\n",
       "      <td>2018-10-28</td>\n",
       "      <td>ultimate</td>\n",
       "      <td>NaN</td>\n",
       "    </tr>\n",
       "    <tr>\n",
       "      <th>340</th>\n",
       "      <td>1340</td>\n",
       "      <td>Vanna</td>\n",
       "      <td>Stanton</td>\n",
       "      <td>65</td>\n",
       "      <td>Dallas-Fort Worth-Arlington, TX MSA</td>\n",
       "      <td>2018-07-05</td>\n",
       "      <td>surf</td>\n",
       "      <td>NaN</td>\n",
       "    </tr>\n",
       "    <tr>\n",
       "      <th>47</th>\n",
       "      <td>1047</td>\n",
       "      <td>Yuk</td>\n",
       "      <td>French</td>\n",
       "      <td>22</td>\n",
       "      <td>Indianapolis-Carmel-Anderson, IN MSA</td>\n",
       "      <td>2018-06-16</td>\n",
       "      <td>ultimate</td>\n",
       "      <td>NaN</td>\n",
       "    </tr>\n",
       "    <tr>\n",
       "      <th>67</th>\n",
       "      <td>1067</td>\n",
       "      <td>Robt</td>\n",
       "      <td>Allen</td>\n",
       "      <td>37</td>\n",
       "      <td>Grand Rapids-Kentwood, MI MSA</td>\n",
       "      <td>2018-09-24</td>\n",
       "      <td>surf</td>\n",
       "      <td>2018-11-24</td>\n",
       "    </tr>\n",
       "    <tr>\n",
       "      <th>479</th>\n",
       "      <td>1479</td>\n",
       "      <td>Keesha</td>\n",
       "      <td>Burnett</td>\n",
       "      <td>44</td>\n",
       "      <td>Riverside-San Bernardino-Ontario, CA MSA</td>\n",
       "      <td>2018-11-12</td>\n",
       "      <td>surf</td>\n",
       "      <td>NaN</td>\n",
       "    </tr>\n",
       "    <tr>\n",
       "      <th>485</th>\n",
       "      <td>1485</td>\n",
       "      <td>Damion</td>\n",
       "      <td>Woodard</td>\n",
       "      <td>67</td>\n",
       "      <td>Nashville-Davidson–Murfreesboro–Franklin, TN MSA</td>\n",
       "      <td>2018-08-21</td>\n",
       "      <td>surf</td>\n",
       "      <td>NaN</td>\n",
       "    </tr>\n",
       "    <tr>\n",
       "      <th>310</th>\n",
       "      <td>1310</td>\n",
       "      <td>Vincent</td>\n",
       "      <td>Fry</td>\n",
       "      <td>73</td>\n",
       "      <td>Portland-Vancouver-Hillsboro, OR-WA MSA</td>\n",
       "      <td>2018-11-29</td>\n",
       "      <td>surf</td>\n",
       "      <td>NaN</td>\n",
       "    </tr>\n",
       "    <tr>\n",
       "      <th>31</th>\n",
       "      <td>1031</td>\n",
       "      <td>Lane</td>\n",
       "      <td>Martin</td>\n",
       "      <td>52</td>\n",
       "      <td>New York-Newark-Jersey City, NY-NJ-PA MSA</td>\n",
       "      <td>2018-07-15</td>\n",
       "      <td>ultimate</td>\n",
       "      <td>NaN</td>\n",
       "    </tr>\n",
       "    <tr>\n",
       "      <th>249</th>\n",
       "      <td>1249</td>\n",
       "      <td>Kelly</td>\n",
       "      <td>Goodman</td>\n",
       "      <td>41</td>\n",
       "      <td>Cincinnati, OH-KY-IN MSA</td>\n",
       "      <td>2018-05-14</td>\n",
       "      <td>ultimate</td>\n",
       "      <td>NaN</td>\n",
       "    </tr>\n",
       "    <tr>\n",
       "      <th>90</th>\n",
       "      <td>1090</td>\n",
       "      <td>Brock</td>\n",
       "      <td>Skinner</td>\n",
       "      <td>30</td>\n",
       "      <td>Indianapolis-Carmel-Anderson, IN MSA</td>\n",
       "      <td>2018-05-12</td>\n",
       "      <td>surf</td>\n",
       "      <td>NaN</td>\n",
       "    </tr>\n",
       "  </tbody>\n",
       "</table>\n",
       "</div>"
      ],
      "text/plain": [
       "     user_id first_name last_name  age  \\\n",
       "304     1304   Dominque      Cole   69   \n",
       "340     1340      Vanna   Stanton   65   \n",
       "47      1047        Yuk    French   22   \n",
       "67      1067       Robt     Allen   37   \n",
       "479     1479     Keesha   Burnett   44   \n",
       "485     1485     Damion   Woodard   67   \n",
       "310     1310    Vincent       Fry   73   \n",
       "31      1031       Lane    Martin   52   \n",
       "249     1249      Kelly   Goodman   41   \n",
       "90      1090      Brock   Skinner   30   \n",
       "\n",
       "                                                 city    reg_date      plan  \\\n",
       "304                         Birmingham-Hoover, AL MSA  2018-10-28  ultimate   \n",
       "340               Dallas-Fort Worth-Arlington, TX MSA  2018-07-05      surf   \n",
       "47               Indianapolis-Carmel-Anderson, IN MSA  2018-06-16  ultimate   \n",
       "67                      Grand Rapids-Kentwood, MI MSA  2018-09-24      surf   \n",
       "479          Riverside-San Bernardino-Ontario, CA MSA  2018-11-12      surf   \n",
       "485  Nashville-Davidson–Murfreesboro–Franklin, TN MSA  2018-08-21      surf   \n",
       "310           Portland-Vancouver-Hillsboro, OR-WA MSA  2018-11-29      surf   \n",
       "31          New York-Newark-Jersey City, NY-NJ-PA MSA  2018-07-15  ultimate   \n",
       "249                          Cincinnati, OH-KY-IN MSA  2018-05-14  ultimate   \n",
       "90               Indianapolis-Carmel-Anderson, IN MSA  2018-05-12      surf   \n",
       "\n",
       "     churn_date  \n",
       "304         NaN  \n",
       "340         NaN  \n",
       "47          NaN  \n",
       "67   2018-11-24  \n",
       "479         NaN  \n",
       "485         NaN  \n",
       "310         NaN  \n",
       "31          NaN  \n",
       "249         NaN  \n",
       "90          NaN  "
      ]
     },
     "metadata": {},
     "output_type": "display_data"
    }
   ],
   "source": [
    "df_users.info()\n",
    "display(df_users.sample(10, random_state=1))"
   ]
  },
  {
   "attachments": {},
   "cell_type": "markdown",
   "metadata": {},
   "source": [
    "The sample from the user dataset is appropriate for the most part, but some columns can be improved. The city is ambiguous in that it has multiple cities and/or states, and each appear to have a value MSA, which is non-descriptive. Additionally, we have NaN values in the 'churn_date' column, which was expected. We can clean up the 'city' column by:\n",
    "- Using a combination of <code>split()</code> methods with specific delimiters to convert cities and states into lists\n",
    "- Adding new columns for the list of cities and states, omitting the 'MSA' portion of the string\n",
    "\n",
    "We can change the 'reg_date' and 'churn_date' data types from object to datetime using <code>to_datetime()</code> and ensure the correct format is specified. This will convert the NaN values in 'churn_date' to NaT, but we want to preserve the datetime object for the valid entries. We will keep the empty values for now."
   ]
  },
  {
   "attachments": {},
   "cell_type": "markdown",
   "metadata": {},
   "source": [
    "**Fix User Data**"
   ]
  },
  {
   "attachments": {},
   "cell_type": "markdown",
   "metadata": {},
   "source": [
    "First, we'll convert 'reg_date' and 'churn_date to datetime objects."
   ]
  },
  {
   "cell_type": "code",
   "execution_count": 6,
   "metadata": {},
   "outputs": [],
   "source": [
    "df_users['reg_date'] = pd.to_datetime(df_users['reg_date'], format='%Y-%m-%d')\n",
    "df_users['churn_date'] = pd.to_datetime(df_users['churn_date'], format='%Y-%m-%d')"
   ]
  },
  {
   "attachments": {},
   "cell_type": "markdown",
   "metadata": {},
   "source": [
    "**Enrich User Data**"
   ]
  },
  {
   "attachments": {},
   "cell_type": "markdown",
   "metadata": {},
   "source": [
    "We can break up the 'reg_date' column into individual components. Additionally, we'll break out the cities and states and assign them to a new column by:\n",
    "- Splitting the value in 'city' into two strings by the ', ' delimiter. and assigning them to the new columns, 'cities' and 'states' respectively.\n",
    "- Separate the state(s) from the string 'MSA' with the space delimiter."
   ]
  },
  {
   "cell_type": "code",
   "execution_count": 7,
   "metadata": {},
   "outputs": [
    {
     "data": {
      "text/html": [
       "<div>\n",
       "<style scoped>\n",
       "    .dataframe tbody tr th:only-of-type {\n",
       "        vertical-align: middle;\n",
       "    }\n",
       "\n",
       "    .dataframe tbody tr th {\n",
       "        vertical-align: top;\n",
       "    }\n",
       "\n",
       "    .dataframe thead th {\n",
       "        text-align: right;\n",
       "    }\n",
       "</style>\n",
       "<table border=\"1\" class=\"dataframe\">\n",
       "  <thead>\n",
       "    <tr style=\"text-align: right;\">\n",
       "      <th></th>\n",
       "      <th>user_id</th>\n",
       "      <th>first_name</th>\n",
       "      <th>last_name</th>\n",
       "      <th>age</th>\n",
       "      <th>city</th>\n",
       "      <th>reg_date</th>\n",
       "      <th>plan</th>\n",
       "      <th>churn_date</th>\n",
       "      <th>cities</th>\n",
       "      <th>states</th>\n",
       "      <th>year</th>\n",
       "      <th>month</th>\n",
       "      <th>day</th>\n",
       "    </tr>\n",
       "  </thead>\n",
       "  <tbody>\n",
       "    <tr>\n",
       "      <th>304</th>\n",
       "      <td>1304</td>\n",
       "      <td>Dominque</td>\n",
       "      <td>Cole</td>\n",
       "      <td>69</td>\n",
       "      <td>Birmingham-Hoover, AL MSA</td>\n",
       "      <td>2018-10-28</td>\n",
       "      <td>ultimate</td>\n",
       "      <td>NaT</td>\n",
       "      <td>Birmingham-Hoover</td>\n",
       "      <td>AL</td>\n",
       "      <td>2018</td>\n",
       "      <td>10</td>\n",
       "      <td>28</td>\n",
       "    </tr>\n",
       "    <tr>\n",
       "      <th>340</th>\n",
       "      <td>1340</td>\n",
       "      <td>Vanna</td>\n",
       "      <td>Stanton</td>\n",
       "      <td>65</td>\n",
       "      <td>Dallas-Fort Worth-Arlington, TX MSA</td>\n",
       "      <td>2018-07-05</td>\n",
       "      <td>surf</td>\n",
       "      <td>NaT</td>\n",
       "      <td>Dallas-Fort Worth-Arlington</td>\n",
       "      <td>TX</td>\n",
       "      <td>2018</td>\n",
       "      <td>7</td>\n",
       "      <td>5</td>\n",
       "    </tr>\n",
       "    <tr>\n",
       "      <th>47</th>\n",
       "      <td>1047</td>\n",
       "      <td>Yuk</td>\n",
       "      <td>French</td>\n",
       "      <td>22</td>\n",
       "      <td>Indianapolis-Carmel-Anderson, IN MSA</td>\n",
       "      <td>2018-06-16</td>\n",
       "      <td>ultimate</td>\n",
       "      <td>NaT</td>\n",
       "      <td>Indianapolis-Carmel-Anderson</td>\n",
       "      <td>IN</td>\n",
       "      <td>2018</td>\n",
       "      <td>6</td>\n",
       "      <td>16</td>\n",
       "    </tr>\n",
       "    <tr>\n",
       "      <th>67</th>\n",
       "      <td>1067</td>\n",
       "      <td>Robt</td>\n",
       "      <td>Allen</td>\n",
       "      <td>37</td>\n",
       "      <td>Grand Rapids-Kentwood, MI MSA</td>\n",
       "      <td>2018-09-24</td>\n",
       "      <td>surf</td>\n",
       "      <td>2018-11-24</td>\n",
       "      <td>Grand Rapids-Kentwood</td>\n",
       "      <td>MI</td>\n",
       "      <td>2018</td>\n",
       "      <td>9</td>\n",
       "      <td>24</td>\n",
       "    </tr>\n",
       "    <tr>\n",
       "      <th>479</th>\n",
       "      <td>1479</td>\n",
       "      <td>Keesha</td>\n",
       "      <td>Burnett</td>\n",
       "      <td>44</td>\n",
       "      <td>Riverside-San Bernardino-Ontario, CA MSA</td>\n",
       "      <td>2018-11-12</td>\n",
       "      <td>surf</td>\n",
       "      <td>NaT</td>\n",
       "      <td>Riverside-San Bernardino-Ontario</td>\n",
       "      <td>CA</td>\n",
       "      <td>2018</td>\n",
       "      <td>11</td>\n",
       "      <td>12</td>\n",
       "    </tr>\n",
       "    <tr>\n",
       "      <th>485</th>\n",
       "      <td>1485</td>\n",
       "      <td>Damion</td>\n",
       "      <td>Woodard</td>\n",
       "      <td>67</td>\n",
       "      <td>Nashville-Davidson–Murfreesboro–Franklin, TN MSA</td>\n",
       "      <td>2018-08-21</td>\n",
       "      <td>surf</td>\n",
       "      <td>NaT</td>\n",
       "      <td>Nashville-Davidson–Murfreesboro–Franklin</td>\n",
       "      <td>TN</td>\n",
       "      <td>2018</td>\n",
       "      <td>8</td>\n",
       "      <td>21</td>\n",
       "    </tr>\n",
       "    <tr>\n",
       "      <th>310</th>\n",
       "      <td>1310</td>\n",
       "      <td>Vincent</td>\n",
       "      <td>Fry</td>\n",
       "      <td>73</td>\n",
       "      <td>Portland-Vancouver-Hillsboro, OR-WA MSA</td>\n",
       "      <td>2018-11-29</td>\n",
       "      <td>surf</td>\n",
       "      <td>NaT</td>\n",
       "      <td>Portland-Vancouver-Hillsboro</td>\n",
       "      <td>OR-WA</td>\n",
       "      <td>2018</td>\n",
       "      <td>11</td>\n",
       "      <td>29</td>\n",
       "    </tr>\n",
       "    <tr>\n",
       "      <th>31</th>\n",
       "      <td>1031</td>\n",
       "      <td>Lane</td>\n",
       "      <td>Martin</td>\n",
       "      <td>52</td>\n",
       "      <td>New York-Newark-Jersey City, NY-NJ-PA MSA</td>\n",
       "      <td>2018-07-15</td>\n",
       "      <td>ultimate</td>\n",
       "      <td>NaT</td>\n",
       "      <td>New York-Newark-Jersey City</td>\n",
       "      <td>NY-NJ-PA</td>\n",
       "      <td>2018</td>\n",
       "      <td>7</td>\n",
       "      <td>15</td>\n",
       "    </tr>\n",
       "    <tr>\n",
       "      <th>249</th>\n",
       "      <td>1249</td>\n",
       "      <td>Kelly</td>\n",
       "      <td>Goodman</td>\n",
       "      <td>41</td>\n",
       "      <td>Cincinnati, OH-KY-IN MSA</td>\n",
       "      <td>2018-05-14</td>\n",
       "      <td>ultimate</td>\n",
       "      <td>NaT</td>\n",
       "      <td>Cincinnati</td>\n",
       "      <td>OH-KY-IN</td>\n",
       "      <td>2018</td>\n",
       "      <td>5</td>\n",
       "      <td>14</td>\n",
       "    </tr>\n",
       "    <tr>\n",
       "      <th>90</th>\n",
       "      <td>1090</td>\n",
       "      <td>Brock</td>\n",
       "      <td>Skinner</td>\n",
       "      <td>30</td>\n",
       "      <td>Indianapolis-Carmel-Anderson, IN MSA</td>\n",
       "      <td>2018-05-12</td>\n",
       "      <td>surf</td>\n",
       "      <td>NaT</td>\n",
       "      <td>Indianapolis-Carmel-Anderson</td>\n",
       "      <td>IN</td>\n",
       "      <td>2018</td>\n",
       "      <td>5</td>\n",
       "      <td>12</td>\n",
       "    </tr>\n",
       "  </tbody>\n",
       "</table>\n",
       "</div>"
      ],
      "text/plain": [
       "     user_id first_name last_name  age  \\\n",
       "304     1304   Dominque      Cole   69   \n",
       "340     1340      Vanna   Stanton   65   \n",
       "47      1047        Yuk    French   22   \n",
       "67      1067       Robt     Allen   37   \n",
       "479     1479     Keesha   Burnett   44   \n",
       "485     1485     Damion   Woodard   67   \n",
       "310     1310    Vincent       Fry   73   \n",
       "31      1031       Lane    Martin   52   \n",
       "249     1249      Kelly   Goodman   41   \n",
       "90      1090      Brock   Skinner   30   \n",
       "\n",
       "                                                 city   reg_date      plan  \\\n",
       "304                         Birmingham-Hoover, AL MSA 2018-10-28  ultimate   \n",
       "340               Dallas-Fort Worth-Arlington, TX MSA 2018-07-05      surf   \n",
       "47               Indianapolis-Carmel-Anderson, IN MSA 2018-06-16  ultimate   \n",
       "67                      Grand Rapids-Kentwood, MI MSA 2018-09-24      surf   \n",
       "479          Riverside-San Bernardino-Ontario, CA MSA 2018-11-12      surf   \n",
       "485  Nashville-Davidson–Murfreesboro–Franklin, TN MSA 2018-08-21      surf   \n",
       "310           Portland-Vancouver-Hillsboro, OR-WA MSA 2018-11-29      surf   \n",
       "31          New York-Newark-Jersey City, NY-NJ-PA MSA 2018-07-15  ultimate   \n",
       "249                          Cincinnati, OH-KY-IN MSA 2018-05-14  ultimate   \n",
       "90               Indianapolis-Carmel-Anderson, IN MSA 2018-05-12      surf   \n",
       "\n",
       "    churn_date                                    cities    states  year  \\\n",
       "304        NaT                         Birmingham-Hoover        AL  2018   \n",
       "340        NaT               Dallas-Fort Worth-Arlington        TX  2018   \n",
       "47         NaT              Indianapolis-Carmel-Anderson        IN  2018   \n",
       "67  2018-11-24                     Grand Rapids-Kentwood        MI  2018   \n",
       "479        NaT          Riverside-San Bernardino-Ontario        CA  2018   \n",
       "485        NaT  Nashville-Davidson–Murfreesboro–Franklin        TN  2018   \n",
       "310        NaT              Portland-Vancouver-Hillsboro     OR-WA  2018   \n",
       "31         NaT               New York-Newark-Jersey City  NY-NJ-PA  2018   \n",
       "249        NaT                                Cincinnati  OH-KY-IN  2018   \n",
       "90         NaT              Indianapolis-Carmel-Anderson        IN  2018   \n",
       "\n",
       "     month  day  \n",
       "304     10   28  \n",
       "340      7    5  \n",
       "47       6   16  \n",
       "67       9   24  \n",
       "479     11   12  \n",
       "485      8   21  \n",
       "310     11   29  \n",
       "31       7   15  \n",
       "249      5   14  \n",
       "90       5   12  "
      ]
     },
     "metadata": {},
     "output_type": "display_data"
    },
    {
     "name": "stdout",
     "output_type": "stream",
     "text": [
      "<class 'pandas.core.frame.DataFrame'>\n",
      "RangeIndex: 500 entries, 0 to 499\n",
      "Data columns (total 13 columns):\n",
      " #   Column      Non-Null Count  Dtype         \n",
      "---  ------      --------------  -----         \n",
      " 0   user_id     500 non-null    int64         \n",
      " 1   first_name  500 non-null    object        \n",
      " 2   last_name   500 non-null    object        \n",
      " 3   age         500 non-null    int64         \n",
      " 4   city        500 non-null    object        \n",
      " 5   reg_date    500 non-null    datetime64[ns]\n",
      " 6   plan        500 non-null    object        \n",
      " 7   churn_date  34 non-null     datetime64[ns]\n",
      " 8   cities      500 non-null    object        \n",
      " 9   states      500 non-null    object        \n",
      " 10  year        500 non-null    int64         \n",
      " 11  month       500 non-null    int64         \n",
      " 12  day         500 non-null    int64         \n",
      "dtypes: datetime64[ns](2), int64(5), object(6)\n",
      "memory usage: 50.9+ KB\n"
     ]
    }
   ],
   "source": [
    "df_users['cities'] = df_users['city'].str.split(', ').str[0]\n",
    "df_users['states'] = df_users['city'].str.split(', ').str[1]\n",
    "\n",
    "df_users['states'] = df_users['states'].str.split(' ').str[0]\n",
    "\n",
    "df_users['year'] = df_users['reg_date'].dt.year\n",
    "df_users['month'] = df_users['reg_date'].dt.month\n",
    "df_users['day'] = df_users['reg_date'].dt.day\n",
    "\n",
    "display(df_users.sample(10, random_state=1))\n",
    "df_users.info()"
   ]
  },
  {
   "attachments": {},
   "cell_type": "markdown",
   "metadata": {},
   "source": [
    "### Megaline Calls"
   ]
  },
  {
   "cell_type": "code",
   "execution_count": 8,
   "metadata": {},
   "outputs": [
    {
     "name": "stdout",
     "output_type": "stream",
     "text": [
      "<class 'pandas.core.frame.DataFrame'>\n",
      "RangeIndex: 137735 entries, 0 to 137734\n",
      "Data columns (total 4 columns):\n",
      " #   Column     Non-Null Count   Dtype  \n",
      "---  ------     --------------   -----  \n",
      " 0   id         137735 non-null  object \n",
      " 1   user_id    137735 non-null  int64  \n",
      " 2   call_date  137735 non-null  object \n",
      " 3   duration   137735 non-null  float64\n",
      "dtypes: float64(1), int64(1), object(2)\n",
      "memory usage: 4.2+ MB\n"
     ]
    },
    {
     "data": {
      "text/html": [
       "<div>\n",
       "<style scoped>\n",
       "    .dataframe tbody tr th:only-of-type {\n",
       "        vertical-align: middle;\n",
       "    }\n",
       "\n",
       "    .dataframe tbody tr th {\n",
       "        vertical-align: top;\n",
       "    }\n",
       "\n",
       "    .dataframe thead th {\n",
       "        text-align: right;\n",
       "    }\n",
       "</style>\n",
       "<table border=\"1\" class=\"dataframe\">\n",
       "  <thead>\n",
       "    <tr style=\"text-align: right;\">\n",
       "      <th></th>\n",
       "      <th>id</th>\n",
       "      <th>user_id</th>\n",
       "      <th>call_date</th>\n",
       "      <th>duration</th>\n",
       "    </tr>\n",
       "  </thead>\n",
       "  <tbody>\n",
       "    <tr>\n",
       "      <th>106231</th>\n",
       "      <td>1374_327</td>\n",
       "      <td>1374</td>\n",
       "      <td>2018-12-17</td>\n",
       "      <td>1.17</td>\n",
       "    </tr>\n",
       "    <tr>\n",
       "      <th>109017</th>\n",
       "      <td>1385_87</td>\n",
       "      <td>1385</td>\n",
       "      <td>2018-10-20</td>\n",
       "      <td>14.02</td>\n",
       "    </tr>\n",
       "    <tr>\n",
       "      <th>76096</th>\n",
       "      <td>1268_600</td>\n",
       "      <td>1268</td>\n",
       "      <td>2018-09-24</td>\n",
       "      <td>12.21</td>\n",
       "    </tr>\n",
       "    <tr>\n",
       "      <th>106317</th>\n",
       "      <td>1375_219</td>\n",
       "      <td>1375</td>\n",
       "      <td>2018-12-03</td>\n",
       "      <td>7.03</td>\n",
       "    </tr>\n",
       "    <tr>\n",
       "      <th>98706</th>\n",
       "      <td>1354_6</td>\n",
       "      <td>1354</td>\n",
       "      <td>2018-10-16</td>\n",
       "      <td>6.21</td>\n",
       "    </tr>\n",
       "    <tr>\n",
       "      <th>50517</th>\n",
       "      <td>1182_90</td>\n",
       "      <td>1182</td>\n",
       "      <td>2018-11-18</td>\n",
       "      <td>1.96</td>\n",
       "    </tr>\n",
       "    <tr>\n",
       "      <th>13355</th>\n",
       "      <td>1057_234</td>\n",
       "      <td>1057</td>\n",
       "      <td>2018-10-03</td>\n",
       "      <td>0.00</td>\n",
       "    </tr>\n",
       "    <tr>\n",
       "      <th>50255</th>\n",
       "      <td>1181_604</td>\n",
       "      <td>1181</td>\n",
       "      <td>2018-12-28</td>\n",
       "      <td>11.65</td>\n",
       "    </tr>\n",
       "    <tr>\n",
       "      <th>129376</th>\n",
       "      <td>1465_773</td>\n",
       "      <td>1465</td>\n",
       "      <td>2018-07-27</td>\n",
       "      <td>12.75</td>\n",
       "    </tr>\n",
       "    <tr>\n",
       "      <th>51887</th>\n",
       "      <td>1187_80</td>\n",
       "      <td>1187</td>\n",
       "      <td>2018-12-22</td>\n",
       "      <td>14.22</td>\n",
       "    </tr>\n",
       "  </tbody>\n",
       "</table>\n",
       "</div>"
      ],
      "text/plain": [
       "              id  user_id   call_date  duration\n",
       "106231  1374_327     1374  2018-12-17      1.17\n",
       "109017   1385_87     1385  2018-10-20     14.02\n",
       "76096   1268_600     1268  2018-09-24     12.21\n",
       "106317  1375_219     1375  2018-12-03      7.03\n",
       "98706     1354_6     1354  2018-10-16      6.21\n",
       "50517    1182_90     1182  2018-11-18      1.96\n",
       "13355   1057_234     1057  2018-10-03      0.00\n",
       "50255   1181_604     1181  2018-12-28     11.65\n",
       "129376  1465_773     1465  2018-07-27     12.75\n",
       "51887    1187_80     1187  2018-12-22     14.22"
      ]
     },
     "metadata": {},
     "output_type": "display_data"
    }
   ],
   "source": [
    "df_calls.info()\n",
    "display(df_calls.sample(10, random_state=1))"
   ]
  },
  {
   "cell_type": "code",
   "execution_count": 9,
   "metadata": {},
   "outputs": [
    {
     "data": {
      "text/html": [
       "<div>\n",
       "<style scoped>\n",
       "    .dataframe tbody tr th:only-of-type {\n",
       "        vertical-align: middle;\n",
       "    }\n",
       "\n",
       "    .dataframe tbody tr th {\n",
       "        vertical-align: top;\n",
       "    }\n",
       "\n",
       "    .dataframe thead th {\n",
       "        text-align: right;\n",
       "    }\n",
       "</style>\n",
       "<table border=\"1\" class=\"dataframe\">\n",
       "  <thead>\n",
       "    <tr style=\"text-align: right;\">\n",
       "      <th></th>\n",
       "      <th>id</th>\n",
       "      <th>user_id</th>\n",
       "      <th>call_date</th>\n",
       "      <th>duration</th>\n",
       "    </tr>\n",
       "  </thead>\n",
       "  <tbody>\n",
       "    <tr>\n",
       "      <th>106231</th>\n",
       "      <td>1374_327</td>\n",
       "      <td>1374</td>\n",
       "      <td>2018-12-17</td>\n",
       "      <td>1.17</td>\n",
       "    </tr>\n",
       "    <tr>\n",
       "      <th>109017</th>\n",
       "      <td>1385_87</td>\n",
       "      <td>1385</td>\n",
       "      <td>2018-10-20</td>\n",
       "      <td>14.02</td>\n",
       "    </tr>\n",
       "    <tr>\n",
       "      <th>76096</th>\n",
       "      <td>1268_600</td>\n",
       "      <td>1268</td>\n",
       "      <td>2018-09-24</td>\n",
       "      <td>12.21</td>\n",
       "    </tr>\n",
       "    <tr>\n",
       "      <th>106317</th>\n",
       "      <td>1375_219</td>\n",
       "      <td>1375</td>\n",
       "      <td>2018-12-03</td>\n",
       "      <td>7.03</td>\n",
       "    </tr>\n",
       "    <tr>\n",
       "      <th>98706</th>\n",
       "      <td>1354_6</td>\n",
       "      <td>1354</td>\n",
       "      <td>2018-10-16</td>\n",
       "      <td>6.21</td>\n",
       "    </tr>\n",
       "    <tr>\n",
       "      <th>50517</th>\n",
       "      <td>1182_90</td>\n",
       "      <td>1182</td>\n",
       "      <td>2018-11-18</td>\n",
       "      <td>1.96</td>\n",
       "    </tr>\n",
       "    <tr>\n",
       "      <th>13355</th>\n",
       "      <td>1057_234</td>\n",
       "      <td>1057</td>\n",
       "      <td>2018-10-03</td>\n",
       "      <td>0.00</td>\n",
       "    </tr>\n",
       "    <tr>\n",
       "      <th>50255</th>\n",
       "      <td>1181_604</td>\n",
       "      <td>1181</td>\n",
       "      <td>2018-12-28</td>\n",
       "      <td>11.65</td>\n",
       "    </tr>\n",
       "    <tr>\n",
       "      <th>129376</th>\n",
       "      <td>1465_773</td>\n",
       "      <td>1465</td>\n",
       "      <td>2018-07-27</td>\n",
       "      <td>12.75</td>\n",
       "    </tr>\n",
       "    <tr>\n",
       "      <th>51887</th>\n",
       "      <td>1187_80</td>\n",
       "      <td>1187</td>\n",
       "      <td>2018-12-22</td>\n",
       "      <td>14.22</td>\n",
       "    </tr>\n",
       "  </tbody>\n",
       "</table>\n",
       "</div>"
      ],
      "text/plain": [
       "              id  user_id   call_date  duration\n",
       "106231  1374_327     1374  2018-12-17      1.17\n",
       "109017   1385_87     1385  2018-10-20     14.02\n",
       "76096   1268_600     1268  2018-09-24     12.21\n",
       "106317  1375_219     1375  2018-12-03      7.03\n",
       "98706     1354_6     1354  2018-10-16      6.21\n",
       "50517    1182_90     1182  2018-11-18      1.96\n",
       "13355   1057_234     1057  2018-10-03      0.00\n",
       "50255   1181_604     1181  2018-12-28     11.65\n",
       "129376  1465_773     1465  2018-07-27     12.75\n",
       "51887    1187_80     1187  2018-12-22     14.22"
      ]
     },
     "metadata": {},
     "output_type": "display_data"
    }
   ],
   "source": [
    "# Print a sample of data for calls\n",
    "\n",
    "display(df_calls.sample(10, random_state=1))"
   ]
  },
  {
   "attachments": {},
   "cell_type": "markdown",
   "metadata": {},
   "source": [
    "There are no missing values. We can adjust the dataset by converting the call date values to a datetime object and add each individual date component as new columns. In accordance with Megaline's billing plan, we can add another column for duration with the values rounded up to the nearest minute."
   ]
  },
  {
   "attachments": {},
   "cell_type": "markdown",
   "metadata": {},
   "source": [
    "**Fix Calls Data**"
   ]
  },
  {
   "attachments": {},
   "cell_type": "markdown",
   "metadata": {},
   "source": [
    "Converting 'call_date' to datetime object."
   ]
  },
  {
   "cell_type": "code",
   "execution_count": 10,
   "metadata": {},
   "outputs": [],
   "source": [
    "df_calls['call_date'] = pd.to_datetime(df_calls['call_date'], format='%Y-%m-%d')"
   ]
  },
  {
   "attachments": {},
   "cell_type": "markdown",
   "metadata": {},
   "source": [
    "**Enrich Calls Data**"
   ]
  },
  {
   "attachments": {},
   "cell_type": "markdown",
   "metadata": {},
   "source": [
    "Adding new columns:\n",
    "- Individual components of the call date(i.e. 'call_year', 'call_month', etc.)\n",
    "- Duration rounded up to the nearest minute ('duration_rounded'), type cast as int"
   ]
  },
  {
   "cell_type": "code",
   "execution_count": 11,
   "metadata": {},
   "outputs": [
    {
     "data": {
      "text/html": [
       "<div>\n",
       "<style scoped>\n",
       "    .dataframe tbody tr th:only-of-type {\n",
       "        vertical-align: middle;\n",
       "    }\n",
       "\n",
       "    .dataframe tbody tr th {\n",
       "        vertical-align: top;\n",
       "    }\n",
       "\n",
       "    .dataframe thead th {\n",
       "        text-align: right;\n",
       "    }\n",
       "</style>\n",
       "<table border=\"1\" class=\"dataframe\">\n",
       "  <thead>\n",
       "    <tr style=\"text-align: right;\">\n",
       "      <th></th>\n",
       "      <th>id</th>\n",
       "      <th>user_id</th>\n",
       "      <th>call_date</th>\n",
       "      <th>duration</th>\n",
       "      <th>year</th>\n",
       "      <th>month</th>\n",
       "      <th>day</th>\n",
       "      <th>duration_rounded</th>\n",
       "    </tr>\n",
       "  </thead>\n",
       "  <tbody>\n",
       "    <tr>\n",
       "      <th>106231</th>\n",
       "      <td>1374_327</td>\n",
       "      <td>1374</td>\n",
       "      <td>2018-12-17</td>\n",
       "      <td>1.17</td>\n",
       "      <td>2018</td>\n",
       "      <td>12</td>\n",
       "      <td>17</td>\n",
       "      <td>2</td>\n",
       "    </tr>\n",
       "    <tr>\n",
       "      <th>109017</th>\n",
       "      <td>1385_87</td>\n",
       "      <td>1385</td>\n",
       "      <td>2018-10-20</td>\n",
       "      <td>14.02</td>\n",
       "      <td>2018</td>\n",
       "      <td>10</td>\n",
       "      <td>20</td>\n",
       "      <td>15</td>\n",
       "    </tr>\n",
       "    <tr>\n",
       "      <th>76096</th>\n",
       "      <td>1268_600</td>\n",
       "      <td>1268</td>\n",
       "      <td>2018-09-24</td>\n",
       "      <td>12.21</td>\n",
       "      <td>2018</td>\n",
       "      <td>9</td>\n",
       "      <td>24</td>\n",
       "      <td>13</td>\n",
       "    </tr>\n",
       "    <tr>\n",
       "      <th>106317</th>\n",
       "      <td>1375_219</td>\n",
       "      <td>1375</td>\n",
       "      <td>2018-12-03</td>\n",
       "      <td>7.03</td>\n",
       "      <td>2018</td>\n",
       "      <td>12</td>\n",
       "      <td>3</td>\n",
       "      <td>8</td>\n",
       "    </tr>\n",
       "    <tr>\n",
       "      <th>98706</th>\n",
       "      <td>1354_6</td>\n",
       "      <td>1354</td>\n",
       "      <td>2018-10-16</td>\n",
       "      <td>6.21</td>\n",
       "      <td>2018</td>\n",
       "      <td>10</td>\n",
       "      <td>16</td>\n",
       "      <td>7</td>\n",
       "    </tr>\n",
       "    <tr>\n",
       "      <th>50517</th>\n",
       "      <td>1182_90</td>\n",
       "      <td>1182</td>\n",
       "      <td>2018-11-18</td>\n",
       "      <td>1.96</td>\n",
       "      <td>2018</td>\n",
       "      <td>11</td>\n",
       "      <td>18</td>\n",
       "      <td>2</td>\n",
       "    </tr>\n",
       "    <tr>\n",
       "      <th>13355</th>\n",
       "      <td>1057_234</td>\n",
       "      <td>1057</td>\n",
       "      <td>2018-10-03</td>\n",
       "      <td>0.00</td>\n",
       "      <td>2018</td>\n",
       "      <td>10</td>\n",
       "      <td>3</td>\n",
       "      <td>0</td>\n",
       "    </tr>\n",
       "    <tr>\n",
       "      <th>50255</th>\n",
       "      <td>1181_604</td>\n",
       "      <td>1181</td>\n",
       "      <td>2018-12-28</td>\n",
       "      <td>11.65</td>\n",
       "      <td>2018</td>\n",
       "      <td>12</td>\n",
       "      <td>28</td>\n",
       "      <td>12</td>\n",
       "    </tr>\n",
       "    <tr>\n",
       "      <th>129376</th>\n",
       "      <td>1465_773</td>\n",
       "      <td>1465</td>\n",
       "      <td>2018-07-27</td>\n",
       "      <td>12.75</td>\n",
       "      <td>2018</td>\n",
       "      <td>7</td>\n",
       "      <td>27</td>\n",
       "      <td>13</td>\n",
       "    </tr>\n",
       "    <tr>\n",
       "      <th>51887</th>\n",
       "      <td>1187_80</td>\n",
       "      <td>1187</td>\n",
       "      <td>2018-12-22</td>\n",
       "      <td>14.22</td>\n",
       "      <td>2018</td>\n",
       "      <td>12</td>\n",
       "      <td>22</td>\n",
       "      <td>15</td>\n",
       "    </tr>\n",
       "  </tbody>\n",
       "</table>\n",
       "</div>"
      ],
      "text/plain": [
       "              id  user_id  call_date  duration  year  month  day  \\\n",
       "106231  1374_327     1374 2018-12-17      1.17  2018     12   17   \n",
       "109017   1385_87     1385 2018-10-20     14.02  2018     10   20   \n",
       "76096   1268_600     1268 2018-09-24     12.21  2018      9   24   \n",
       "106317  1375_219     1375 2018-12-03      7.03  2018     12    3   \n",
       "98706     1354_6     1354 2018-10-16      6.21  2018     10   16   \n",
       "50517    1182_90     1182 2018-11-18      1.96  2018     11   18   \n",
       "13355   1057_234     1057 2018-10-03      0.00  2018     10    3   \n",
       "50255   1181_604     1181 2018-12-28     11.65  2018     12   28   \n",
       "129376  1465_773     1465 2018-07-27     12.75  2018      7   27   \n",
       "51887    1187_80     1187 2018-12-22     14.22  2018     12   22   \n",
       "\n",
       "        duration_rounded  \n",
       "106231                 2  \n",
       "109017                15  \n",
       "76096                 13  \n",
       "106317                 8  \n",
       "98706                  7  \n",
       "50517                  2  \n",
       "13355                  0  \n",
       "50255                 12  \n",
       "129376                13  \n",
       "51887                 15  "
      ]
     },
     "metadata": {},
     "output_type": "display_data"
    },
    {
     "name": "stdout",
     "output_type": "stream",
     "text": [
      "<class 'pandas.core.frame.DataFrame'>\n",
      "RangeIndex: 137735 entries, 0 to 137734\n",
      "Data columns (total 8 columns):\n",
      " #   Column            Non-Null Count   Dtype         \n",
      "---  ------            --------------   -----         \n",
      " 0   id                137735 non-null  object        \n",
      " 1   user_id           137735 non-null  int64         \n",
      " 2   call_date         137735 non-null  datetime64[ns]\n",
      " 3   duration          137735 non-null  float64       \n",
      " 4   year              137735 non-null  int64         \n",
      " 5   month             137735 non-null  int64         \n",
      " 6   day               137735 non-null  int64         \n",
      " 7   duration_rounded  137735 non-null  int32         \n",
      "dtypes: datetime64[ns](1), float64(1), int32(1), int64(4), object(1)\n",
      "memory usage: 7.9+ MB\n"
     ]
    }
   ],
   "source": [
    "df_calls['year'] = df_calls['call_date'].dt.year\n",
    "df_calls['month'] = df_calls['call_date'].dt.month\n",
    "df_calls['day'] = df_calls['call_date'].dt.day\n",
    "df_calls['duration_rounded'] = np.ceil(df_calls['duration']).astype('int')\n",
    "\n",
    "display(df_calls.sample(10, random_state=1))\n",
    "df_calls.info()"
   ]
  },
  {
   "attachments": {},
   "cell_type": "markdown",
   "metadata": {},
   "source": [
    "### Megaline Messages"
   ]
  },
  {
   "cell_type": "code",
   "execution_count": 12,
   "metadata": {},
   "outputs": [
    {
     "name": "stdout",
     "output_type": "stream",
     "text": [
      "<class 'pandas.core.frame.DataFrame'>\n",
      "RangeIndex: 76051 entries, 0 to 76050\n",
      "Data columns (total 3 columns):\n",
      " #   Column        Non-Null Count  Dtype \n",
      "---  ------        --------------  ----- \n",
      " 0   id            76051 non-null  object\n",
      " 1   user_id       76051 non-null  int64 \n",
      " 2   message_date  76051 non-null  object\n",
      "dtypes: int64(1), object(2)\n",
      "memory usage: 1.7+ MB\n"
     ]
    },
    {
     "data": {
      "text/html": [
       "<div>\n",
       "<style scoped>\n",
       "    .dataframe tbody tr th:only-of-type {\n",
       "        vertical-align: middle;\n",
       "    }\n",
       "\n",
       "    .dataframe tbody tr th {\n",
       "        vertical-align: top;\n",
       "    }\n",
       "\n",
       "    .dataframe thead th {\n",
       "        text-align: right;\n",
       "    }\n",
       "</style>\n",
       "<table border=\"1\" class=\"dataframe\">\n",
       "  <thead>\n",
       "    <tr style=\"text-align: right;\">\n",
       "      <th></th>\n",
       "      <th>id</th>\n",
       "      <th>user_id</th>\n",
       "      <th>message_date</th>\n",
       "    </tr>\n",
       "  </thead>\n",
       "  <tbody>\n",
       "    <tr>\n",
       "      <th>12922</th>\n",
       "      <td>1084_162</td>\n",
       "      <td>1084</td>\n",
       "      <td>2018-11-17</td>\n",
       "    </tr>\n",
       "    <tr>\n",
       "      <th>55949</th>\n",
       "      <td>1354_99</td>\n",
       "      <td>1354</td>\n",
       "      <td>2018-10-04</td>\n",
       "    </tr>\n",
       "    <tr>\n",
       "      <th>19111</th>\n",
       "      <td>1123_180</td>\n",
       "      <td>1123</td>\n",
       "      <td>2018-11-04</td>\n",
       "    </tr>\n",
       "    <tr>\n",
       "      <th>46123</th>\n",
       "      <td>1314_11</td>\n",
       "      <td>1314</td>\n",
       "      <td>2018-12-15</td>\n",
       "    </tr>\n",
       "    <tr>\n",
       "      <th>72141</th>\n",
       "      <td>1467_473</td>\n",
       "      <td>1467</td>\n",
       "      <td>2018-05-18</td>\n",
       "    </tr>\n",
       "    <tr>\n",
       "      <th>58237</th>\n",
       "      <td>1369_38</td>\n",
       "      <td>1369</td>\n",
       "      <td>2018-12-15</td>\n",
       "    </tr>\n",
       "    <tr>\n",
       "      <th>55621</th>\n",
       "      <td>1349_433</td>\n",
       "      <td>1349</td>\n",
       "      <td>2018-10-11</td>\n",
       "    </tr>\n",
       "    <tr>\n",
       "      <th>18826</th>\n",
       "      <td>1122_55</td>\n",
       "      <td>1122</td>\n",
       "      <td>2018-07-13</td>\n",
       "    </tr>\n",
       "    <tr>\n",
       "      <th>64105</th>\n",
       "      <td>1408_230</td>\n",
       "      <td>1408</td>\n",
       "      <td>2018-06-05</td>\n",
       "    </tr>\n",
       "    <tr>\n",
       "      <th>6990</th>\n",
       "      <td>1057_314</td>\n",
       "      <td>1057</td>\n",
       "      <td>2018-11-18</td>\n",
       "    </tr>\n",
       "  </tbody>\n",
       "</table>\n",
       "</div>"
      ],
      "text/plain": [
       "             id  user_id message_date\n",
       "12922  1084_162     1084   2018-11-17\n",
       "55949   1354_99     1354   2018-10-04\n",
       "19111  1123_180     1123   2018-11-04\n",
       "46123   1314_11     1314   2018-12-15\n",
       "72141  1467_473     1467   2018-05-18\n",
       "58237   1369_38     1369   2018-12-15\n",
       "55621  1349_433     1349   2018-10-11\n",
       "18826   1122_55     1122   2018-07-13\n",
       "64105  1408_230     1408   2018-06-05\n",
       "6990   1057_314     1057   2018-11-18"
      ]
     },
     "metadata": {},
     "output_type": "display_data"
    }
   ],
   "source": [
    "df_messages.info()\n",
    "display(df_messages.sample(10, random_state=1))"
   ]
  },
  {
   "attachments": {},
   "cell_type": "markdown",
   "metadata": {},
   "source": [
    "There are no missing entries. We can convert the 'message_date' column to a datetime object, and then add columns with the individual date compontents."
   ]
  },
  {
   "attachments": {},
   "cell_type": "markdown",
   "metadata": {},
   "source": [
    "**Fix Messages Data**"
   ]
  },
  {
   "attachments": {},
   "cell_type": "markdown",
   "metadata": {},
   "source": [
    "Converting the dates to datetime objects."
   ]
  },
  {
   "cell_type": "code",
   "execution_count": 13,
   "metadata": {},
   "outputs": [],
   "source": [
    "df_messages['message_date'] = pd.to_datetime(df_messages['message_date'], format='%Y-%m-%d')"
   ]
  },
  {
   "attachments": {},
   "cell_type": "markdown",
   "metadata": {},
   "source": [
    "**Enrich Messages Data**"
   ]
  },
  {
   "attachments": {},
   "cell_type": "markdown",
   "metadata": {},
   "source": [
    "Adding each date component as individual columns."
   ]
  },
  {
   "cell_type": "code",
   "execution_count": 14,
   "metadata": {},
   "outputs": [
    {
     "data": {
      "text/html": [
       "<div>\n",
       "<style scoped>\n",
       "    .dataframe tbody tr th:only-of-type {\n",
       "        vertical-align: middle;\n",
       "    }\n",
       "\n",
       "    .dataframe tbody tr th {\n",
       "        vertical-align: top;\n",
       "    }\n",
       "\n",
       "    .dataframe thead th {\n",
       "        text-align: right;\n",
       "    }\n",
       "</style>\n",
       "<table border=\"1\" class=\"dataframe\">\n",
       "  <thead>\n",
       "    <tr style=\"text-align: right;\">\n",
       "      <th></th>\n",
       "      <th>id</th>\n",
       "      <th>user_id</th>\n",
       "      <th>message_date</th>\n",
       "      <th>year</th>\n",
       "      <th>month</th>\n",
       "      <th>day</th>\n",
       "    </tr>\n",
       "  </thead>\n",
       "  <tbody>\n",
       "    <tr>\n",
       "      <th>12922</th>\n",
       "      <td>1084_162</td>\n",
       "      <td>1084</td>\n",
       "      <td>2018-11-17</td>\n",
       "      <td>2018</td>\n",
       "      <td>11</td>\n",
       "      <td>17</td>\n",
       "    </tr>\n",
       "    <tr>\n",
       "      <th>55949</th>\n",
       "      <td>1354_99</td>\n",
       "      <td>1354</td>\n",
       "      <td>2018-10-04</td>\n",
       "      <td>2018</td>\n",
       "      <td>10</td>\n",
       "      <td>4</td>\n",
       "    </tr>\n",
       "    <tr>\n",
       "      <th>19111</th>\n",
       "      <td>1123_180</td>\n",
       "      <td>1123</td>\n",
       "      <td>2018-11-04</td>\n",
       "      <td>2018</td>\n",
       "      <td>11</td>\n",
       "      <td>4</td>\n",
       "    </tr>\n",
       "    <tr>\n",
       "      <th>46123</th>\n",
       "      <td>1314_11</td>\n",
       "      <td>1314</td>\n",
       "      <td>2018-12-15</td>\n",
       "      <td>2018</td>\n",
       "      <td>12</td>\n",
       "      <td>15</td>\n",
       "    </tr>\n",
       "    <tr>\n",
       "      <th>72141</th>\n",
       "      <td>1467_473</td>\n",
       "      <td>1467</td>\n",
       "      <td>2018-05-18</td>\n",
       "      <td>2018</td>\n",
       "      <td>5</td>\n",
       "      <td>18</td>\n",
       "    </tr>\n",
       "    <tr>\n",
       "      <th>58237</th>\n",
       "      <td>1369_38</td>\n",
       "      <td>1369</td>\n",
       "      <td>2018-12-15</td>\n",
       "      <td>2018</td>\n",
       "      <td>12</td>\n",
       "      <td>15</td>\n",
       "    </tr>\n",
       "    <tr>\n",
       "      <th>55621</th>\n",
       "      <td>1349_433</td>\n",
       "      <td>1349</td>\n",
       "      <td>2018-10-11</td>\n",
       "      <td>2018</td>\n",
       "      <td>10</td>\n",
       "      <td>11</td>\n",
       "    </tr>\n",
       "    <tr>\n",
       "      <th>18826</th>\n",
       "      <td>1122_55</td>\n",
       "      <td>1122</td>\n",
       "      <td>2018-07-13</td>\n",
       "      <td>2018</td>\n",
       "      <td>7</td>\n",
       "      <td>13</td>\n",
       "    </tr>\n",
       "    <tr>\n",
       "      <th>64105</th>\n",
       "      <td>1408_230</td>\n",
       "      <td>1408</td>\n",
       "      <td>2018-06-05</td>\n",
       "      <td>2018</td>\n",
       "      <td>6</td>\n",
       "      <td>5</td>\n",
       "    </tr>\n",
       "    <tr>\n",
       "      <th>6990</th>\n",
       "      <td>1057_314</td>\n",
       "      <td>1057</td>\n",
       "      <td>2018-11-18</td>\n",
       "      <td>2018</td>\n",
       "      <td>11</td>\n",
       "      <td>18</td>\n",
       "    </tr>\n",
       "  </tbody>\n",
       "</table>\n",
       "</div>"
      ],
      "text/plain": [
       "             id  user_id message_date  year  month  day\n",
       "12922  1084_162     1084   2018-11-17  2018     11   17\n",
       "55949   1354_99     1354   2018-10-04  2018     10    4\n",
       "19111  1123_180     1123   2018-11-04  2018     11    4\n",
       "46123   1314_11     1314   2018-12-15  2018     12   15\n",
       "72141  1467_473     1467   2018-05-18  2018      5   18\n",
       "58237   1369_38     1369   2018-12-15  2018     12   15\n",
       "55621  1349_433     1349   2018-10-11  2018     10   11\n",
       "18826   1122_55     1122   2018-07-13  2018      7   13\n",
       "64105  1408_230     1408   2018-06-05  2018      6    5\n",
       "6990   1057_314     1057   2018-11-18  2018     11   18"
      ]
     },
     "metadata": {},
     "output_type": "display_data"
    },
    {
     "name": "stdout",
     "output_type": "stream",
     "text": [
      "<class 'pandas.core.frame.DataFrame'>\n",
      "RangeIndex: 76051 entries, 0 to 76050\n",
      "Data columns (total 6 columns):\n",
      " #   Column        Non-Null Count  Dtype         \n",
      "---  ------        --------------  -----         \n",
      " 0   id            76051 non-null  object        \n",
      " 1   user_id       76051 non-null  int64         \n",
      " 2   message_date  76051 non-null  datetime64[ns]\n",
      " 3   year          76051 non-null  int64         \n",
      " 4   month         76051 non-null  int64         \n",
      " 5   day           76051 non-null  int64         \n",
      "dtypes: datetime64[ns](1), int64(4), object(1)\n",
      "memory usage: 3.5+ MB\n"
     ]
    }
   ],
   "source": [
    "df_messages['year'] = df_messages['message_date'].dt.year\n",
    "df_messages['month'] = df_messages['message_date'].dt.month\n",
    "df_messages['day'] = df_messages['message_date'].dt.day\n",
    "\n",
    "display(df_messages.sample(10, random_state=1))\n",
    "df_messages.info()"
   ]
  },
  {
   "attachments": {},
   "cell_type": "markdown",
   "metadata": {},
   "source": [
    "### Megaline Internet"
   ]
  },
  {
   "cell_type": "code",
   "execution_count": 15,
   "metadata": {},
   "outputs": [
    {
     "name": "stdout",
     "output_type": "stream",
     "text": [
      "<class 'pandas.core.frame.DataFrame'>\n",
      "RangeIndex: 104825 entries, 0 to 104824\n",
      "Data columns (total 4 columns):\n",
      " #   Column        Non-Null Count   Dtype  \n",
      "---  ------        --------------   -----  \n",
      " 0   id            104825 non-null  object \n",
      " 1   user_id       104825 non-null  int64  \n",
      " 2   session_date  104825 non-null  object \n",
      " 3   mb_used       104825 non-null  float64\n",
      "dtypes: float64(1), int64(1), object(2)\n",
      "memory usage: 3.2+ MB\n"
     ]
    },
    {
     "data": {
      "text/html": [
       "<div>\n",
       "<style scoped>\n",
       "    .dataframe tbody tr th:only-of-type {\n",
       "        vertical-align: middle;\n",
       "    }\n",
       "\n",
       "    .dataframe tbody tr th {\n",
       "        vertical-align: top;\n",
       "    }\n",
       "\n",
       "    .dataframe thead th {\n",
       "        text-align: right;\n",
       "    }\n",
       "</style>\n",
       "<table border=\"1\" class=\"dataframe\">\n",
       "  <thead>\n",
       "    <tr style=\"text-align: right;\">\n",
       "      <th></th>\n",
       "      <th>id</th>\n",
       "      <th>user_id</th>\n",
       "      <th>session_date</th>\n",
       "      <th>mb_used</th>\n",
       "    </tr>\n",
       "  </thead>\n",
       "  <tbody>\n",
       "    <tr>\n",
       "      <th>13106</th>\n",
       "      <td>1062_76</td>\n",
       "      <td>1062</td>\n",
       "      <td>2018-09-15</td>\n",
       "      <td>225.79</td>\n",
       "    </tr>\n",
       "    <tr>\n",
       "      <th>70950</th>\n",
       "      <td>1331_201</td>\n",
       "      <td>1331</td>\n",
       "      <td>2018-09-28</td>\n",
       "      <td>169.69</td>\n",
       "    </tr>\n",
       "    <tr>\n",
       "      <th>6195</th>\n",
       "      <td>1035_43</td>\n",
       "      <td>1035</td>\n",
       "      <td>2018-12-27</td>\n",
       "      <td>124.84</td>\n",
       "    </tr>\n",
       "    <tr>\n",
       "      <th>2400</th>\n",
       "      <td>1011_140</td>\n",
       "      <td>1011</td>\n",
       "      <td>2018-06-26</td>\n",
       "      <td>0.00</td>\n",
       "    </tr>\n",
       "    <tr>\n",
       "      <th>25926</th>\n",
       "      <td>1121_19</td>\n",
       "      <td>1121</td>\n",
       "      <td>2018-12-16</td>\n",
       "      <td>504.92</td>\n",
       "    </tr>\n",
       "    <tr>\n",
       "      <th>63187</th>\n",
       "      <td>1291_312</td>\n",
       "      <td>1291</td>\n",
       "      <td>2018-07-08</td>\n",
       "      <td>289.98</td>\n",
       "    </tr>\n",
       "    <tr>\n",
       "      <th>16908</th>\n",
       "      <td>1077_28</td>\n",
       "      <td>1077</td>\n",
       "      <td>2018-12-12</td>\n",
       "      <td>465.72</td>\n",
       "    </tr>\n",
       "    <tr>\n",
       "      <th>64323</th>\n",
       "      <td>1295_223</td>\n",
       "      <td>1295</td>\n",
       "      <td>2018-12-20</td>\n",
       "      <td>549.30</td>\n",
       "    </tr>\n",
       "    <tr>\n",
       "      <th>95470</th>\n",
       "      <td>1445_118</td>\n",
       "      <td>1445</td>\n",
       "      <td>2018-08-13</td>\n",
       "      <td>405.50</td>\n",
       "    </tr>\n",
       "    <tr>\n",
       "      <th>55326</th>\n",
       "      <td>1251_137</td>\n",
       "      <td>1251</td>\n",
       "      <td>2018-12-18</td>\n",
       "      <td>285.50</td>\n",
       "    </tr>\n",
       "  </tbody>\n",
       "</table>\n",
       "</div>"
      ],
      "text/plain": [
       "             id  user_id session_date  mb_used\n",
       "13106   1062_76     1062   2018-09-15   225.79\n",
       "70950  1331_201     1331   2018-09-28   169.69\n",
       "6195    1035_43     1035   2018-12-27   124.84\n",
       "2400   1011_140     1011   2018-06-26     0.00\n",
       "25926   1121_19     1121   2018-12-16   504.92\n",
       "63187  1291_312     1291   2018-07-08   289.98\n",
       "16908   1077_28     1077   2018-12-12   465.72\n",
       "64323  1295_223     1295   2018-12-20   549.30\n",
       "95470  1445_118     1445   2018-08-13   405.50\n",
       "55326  1251_137     1251   2018-12-18   285.50"
      ]
     },
     "metadata": {},
     "output_type": "display_data"
    }
   ],
   "source": [
    "df_internet.info()\n",
    "display(df_internet.sample(10, random_state=1))"
   ]
  },
  {
   "attachments": {},
   "cell_type": "markdown",
   "metadata": {},
   "source": [
    "There are no missing values. Since overages for internet use is calculated at the end of the month, we'll leave the column 'mb_used' as is. We can adjust the dataset by converting the dates to a datetime object and add each individual date component as new columns."
   ]
  },
  {
   "attachments": {},
   "cell_type": "markdown",
   "metadata": {},
   "source": [
    "**Fix Internet Data**"
   ]
  },
  {
   "attachments": {},
   "cell_type": "markdown",
   "metadata": {},
   "source": [
    "Converting dates to datetime object."
   ]
  },
  {
   "cell_type": "code",
   "execution_count": 16,
   "metadata": {},
   "outputs": [],
   "source": [
    "df_internet['session_date'] = pd.to_datetime(df_internet['session_date'], format='%Y-%m-%d')"
   ]
  },
  {
   "attachments": {},
   "cell_type": "markdown",
   "metadata": {},
   "source": [
    "**Enrich Internet Data**"
   ]
  },
  {
   "attachments": {},
   "cell_type": "markdown",
   "metadata": {},
   "source": [
    "Adding columns for each individual date component."
   ]
  },
  {
   "cell_type": "code",
   "execution_count": 17,
   "metadata": {},
   "outputs": [
    {
     "data": {
      "text/html": [
       "<div>\n",
       "<style scoped>\n",
       "    .dataframe tbody tr th:only-of-type {\n",
       "        vertical-align: middle;\n",
       "    }\n",
       "\n",
       "    .dataframe tbody tr th {\n",
       "        vertical-align: top;\n",
       "    }\n",
       "\n",
       "    .dataframe thead th {\n",
       "        text-align: right;\n",
       "    }\n",
       "</style>\n",
       "<table border=\"1\" class=\"dataframe\">\n",
       "  <thead>\n",
       "    <tr style=\"text-align: right;\">\n",
       "      <th></th>\n",
       "      <th>id</th>\n",
       "      <th>user_id</th>\n",
       "      <th>session_date</th>\n",
       "      <th>mb_used</th>\n",
       "      <th>year</th>\n",
       "      <th>month</th>\n",
       "      <th>day</th>\n",
       "    </tr>\n",
       "  </thead>\n",
       "  <tbody>\n",
       "    <tr>\n",
       "      <th>13106</th>\n",
       "      <td>1062_76</td>\n",
       "      <td>1062</td>\n",
       "      <td>2018-09-15</td>\n",
       "      <td>225.79</td>\n",
       "      <td>2018</td>\n",
       "      <td>9</td>\n",
       "      <td>15</td>\n",
       "    </tr>\n",
       "    <tr>\n",
       "      <th>70950</th>\n",
       "      <td>1331_201</td>\n",
       "      <td>1331</td>\n",
       "      <td>2018-09-28</td>\n",
       "      <td>169.69</td>\n",
       "      <td>2018</td>\n",
       "      <td>9</td>\n",
       "      <td>28</td>\n",
       "    </tr>\n",
       "    <tr>\n",
       "      <th>6195</th>\n",
       "      <td>1035_43</td>\n",
       "      <td>1035</td>\n",
       "      <td>2018-12-27</td>\n",
       "      <td>124.84</td>\n",
       "      <td>2018</td>\n",
       "      <td>12</td>\n",
       "      <td>27</td>\n",
       "    </tr>\n",
       "    <tr>\n",
       "      <th>2400</th>\n",
       "      <td>1011_140</td>\n",
       "      <td>1011</td>\n",
       "      <td>2018-06-26</td>\n",
       "      <td>0.00</td>\n",
       "      <td>2018</td>\n",
       "      <td>6</td>\n",
       "      <td>26</td>\n",
       "    </tr>\n",
       "    <tr>\n",
       "      <th>25926</th>\n",
       "      <td>1121_19</td>\n",
       "      <td>1121</td>\n",
       "      <td>2018-12-16</td>\n",
       "      <td>504.92</td>\n",
       "      <td>2018</td>\n",
       "      <td>12</td>\n",
       "      <td>16</td>\n",
       "    </tr>\n",
       "    <tr>\n",
       "      <th>63187</th>\n",
       "      <td>1291_312</td>\n",
       "      <td>1291</td>\n",
       "      <td>2018-07-08</td>\n",
       "      <td>289.98</td>\n",
       "      <td>2018</td>\n",
       "      <td>7</td>\n",
       "      <td>8</td>\n",
       "    </tr>\n",
       "    <tr>\n",
       "      <th>16908</th>\n",
       "      <td>1077_28</td>\n",
       "      <td>1077</td>\n",
       "      <td>2018-12-12</td>\n",
       "      <td>465.72</td>\n",
       "      <td>2018</td>\n",
       "      <td>12</td>\n",
       "      <td>12</td>\n",
       "    </tr>\n",
       "    <tr>\n",
       "      <th>64323</th>\n",
       "      <td>1295_223</td>\n",
       "      <td>1295</td>\n",
       "      <td>2018-12-20</td>\n",
       "      <td>549.30</td>\n",
       "      <td>2018</td>\n",
       "      <td>12</td>\n",
       "      <td>20</td>\n",
       "    </tr>\n",
       "    <tr>\n",
       "      <th>95470</th>\n",
       "      <td>1445_118</td>\n",
       "      <td>1445</td>\n",
       "      <td>2018-08-13</td>\n",
       "      <td>405.50</td>\n",
       "      <td>2018</td>\n",
       "      <td>8</td>\n",
       "      <td>13</td>\n",
       "    </tr>\n",
       "    <tr>\n",
       "      <th>55326</th>\n",
       "      <td>1251_137</td>\n",
       "      <td>1251</td>\n",
       "      <td>2018-12-18</td>\n",
       "      <td>285.50</td>\n",
       "      <td>2018</td>\n",
       "      <td>12</td>\n",
       "      <td>18</td>\n",
       "    </tr>\n",
       "  </tbody>\n",
       "</table>\n",
       "</div>"
      ],
      "text/plain": [
       "             id  user_id session_date  mb_used  year  month  day\n",
       "13106   1062_76     1062   2018-09-15   225.79  2018      9   15\n",
       "70950  1331_201     1331   2018-09-28   169.69  2018      9   28\n",
       "6195    1035_43     1035   2018-12-27   124.84  2018     12   27\n",
       "2400   1011_140     1011   2018-06-26     0.00  2018      6   26\n",
       "25926   1121_19     1121   2018-12-16   504.92  2018     12   16\n",
       "63187  1291_312     1291   2018-07-08   289.98  2018      7    8\n",
       "16908   1077_28     1077   2018-12-12   465.72  2018     12   12\n",
       "64323  1295_223     1295   2018-12-20   549.30  2018     12   20\n",
       "95470  1445_118     1445   2018-08-13   405.50  2018      8   13\n",
       "55326  1251_137     1251   2018-12-18   285.50  2018     12   18"
      ]
     },
     "metadata": {},
     "output_type": "display_data"
    },
    {
     "name": "stdout",
     "output_type": "stream",
     "text": [
      "<class 'pandas.core.frame.DataFrame'>\n",
      "RangeIndex: 104825 entries, 0 to 104824\n",
      "Data columns (total 7 columns):\n",
      " #   Column        Non-Null Count   Dtype         \n",
      "---  ------        --------------   -----         \n",
      " 0   id            104825 non-null  object        \n",
      " 1   user_id       104825 non-null  int64         \n",
      " 2   session_date  104825 non-null  datetime64[ns]\n",
      " 3   mb_used       104825 non-null  float64       \n",
      " 4   year          104825 non-null  int64         \n",
      " 5   month         104825 non-null  int64         \n",
      " 6   day           104825 non-null  int64         \n",
      "dtypes: datetime64[ns](1), float64(1), int64(4), object(1)\n",
      "memory usage: 5.6+ MB\n"
     ]
    }
   ],
   "source": [
    "df_internet['year'] = df_internet['session_date'].dt.year\n",
    "df_internet['month'] = df_internet['session_date'].dt.month\n",
    "df_internet['day'] = df_internet['session_date'].dt.day\n",
    "\n",
    "display(df_internet.sample(10, random_state=1))\n",
    "df_internet.info()"
   ]
  },
  {
   "attachments": {},
   "cell_type": "markdown",
   "metadata": {},
   "source": [
    "## Overview of Megaline Plans\n",
    "\n",
    "**Surf**\n",
    "1. Monthly charge: \\$20\n",
    "2. 500 monthly minutes, 50 texts, and 15 GB of data\n",
    "3. After exceeding the package limits:\n",
    "    - 1 minute: \\$0.03\n",
    "    - 1 text message: \\$0.03\n",
    "    - 1 GB of data: \\$10\n",
    "\n",
    "**Ultimate**\n",
    "1. Monthly charge: \\$70\n",
    "2. 3000 monthly minutes, 1000 text messages, and 30 GB of data\n",
    "3. After exceeding the package limits:\n",
    "    - 1 minute: \\$0.01\n",
    "    - 1 text message: \\$0.01\n",
    "    - 1 GB of data: \\$7\n",
    "    \n",
    "Notes: For calls, each individual call is rounded up to the nearest minute. For web traffic, individual web sessions are not rounded up. Instead, the total for the month is rounded up to the nearest gigabyte."
   ]
  },
  {
   "cell_type": "code",
   "execution_count": 18,
   "metadata": {},
   "outputs": [
    {
     "data": {
      "text/html": [
       "<div>\n",
       "<style scoped>\n",
       "    .dataframe tbody tr th:only-of-type {\n",
       "        vertical-align: middle;\n",
       "    }\n",
       "\n",
       "    .dataframe tbody tr th {\n",
       "        vertical-align: top;\n",
       "    }\n",
       "\n",
       "    .dataframe thead th {\n",
       "        text-align: right;\n",
       "    }\n",
       "</style>\n",
       "<table border=\"1\" class=\"dataframe\">\n",
       "  <thead>\n",
       "    <tr style=\"text-align: right;\">\n",
       "      <th></th>\n",
       "      <th>messages_included</th>\n",
       "      <th>mb_per_month_included</th>\n",
       "      <th>minutes_included</th>\n",
       "      <th>usd_monthly_pay</th>\n",
       "      <th>usd_per_gb</th>\n",
       "      <th>usd_per_message</th>\n",
       "      <th>usd_per_minute</th>\n",
       "      <th>plan_name</th>\n",
       "      <th>gb_per_month_included</th>\n",
       "    </tr>\n",
       "  </thead>\n",
       "  <tbody>\n",
       "    <tr>\n",
       "      <th>0</th>\n",
       "      <td>50</td>\n",
       "      <td>15360</td>\n",
       "      <td>500</td>\n",
       "      <td>20</td>\n",
       "      <td>10</td>\n",
       "      <td>0.03</td>\n",
       "      <td>0.03</td>\n",
       "      <td>surf</td>\n",
       "      <td>15</td>\n",
       "    </tr>\n",
       "    <tr>\n",
       "      <th>1</th>\n",
       "      <td>1000</td>\n",
       "      <td>30720</td>\n",
       "      <td>3000</td>\n",
       "      <td>70</td>\n",
       "      <td>7</td>\n",
       "      <td>0.01</td>\n",
       "      <td>0.01</td>\n",
       "      <td>ultimate</td>\n",
       "      <td>30</td>\n",
       "    </tr>\n",
       "  </tbody>\n",
       "</table>\n",
       "</div>"
      ],
      "text/plain": [
       "   messages_included  mb_per_month_included  minutes_included  \\\n",
       "0                 50                  15360               500   \n",
       "1               1000                  30720              3000   \n",
       "\n",
       "   usd_monthly_pay  usd_per_gb  usd_per_message  usd_per_minute plan_name  \\\n",
       "0               20          10             0.03            0.03      surf   \n",
       "1               70           7             0.01            0.01  ultimate   \n",
       "\n",
       "   gb_per_month_included  \n",
       "0                     15  \n",
       "1                     30  "
      ]
     },
     "metadata": {},
     "output_type": "display_data"
    }
   ],
   "source": [
    "display(df_plans)"
   ]
  },
  {
   "attachments": {},
   "cell_type": "markdown",
   "metadata": {},
   "source": [
    "## Aggregate Data per User"
   ]
  },
  {
   "attachments": {},
   "cell_type": "markdown",
   "metadata": {},
   "source": [
    "Since we enriched our data with columns containing the call month, we can break out the calls each user made monthly by grouping the calls dataset by user ID and month, then perform aggregate functions 'count' and 'sum' on the 'id' and 'duration_rounded' columns, respectively. After reseting the index, we'll revert the multi-index column names to a single level with the appropriate names."
   ]
  },
  {
   "cell_type": "code",
   "execution_count": 19,
   "metadata": {},
   "outputs": [
    {
     "data": {
      "text/html": [
       "<div>\n",
       "<style scoped>\n",
       "    .dataframe tbody tr th:only-of-type {\n",
       "        vertical-align: middle;\n",
       "    }\n",
       "\n",
       "    .dataframe tbody tr th {\n",
       "        vertical-align: top;\n",
       "    }\n",
       "\n",
       "    .dataframe thead th {\n",
       "        text-align: right;\n",
       "    }\n",
       "</style>\n",
       "<table border=\"1\" class=\"dataframe\">\n",
       "  <thead>\n",
       "    <tr style=\"text-align: right;\">\n",
       "      <th></th>\n",
       "      <th>user_id</th>\n",
       "      <th>month</th>\n",
       "      <th>total_calls</th>\n",
       "      <th>total_minutes</th>\n",
       "    </tr>\n",
       "  </thead>\n",
       "  <tbody>\n",
       "    <tr>\n",
       "      <th>0</th>\n",
       "      <td>1000</td>\n",
       "      <td>12</td>\n",
       "      <td>16</td>\n",
       "      <td>124</td>\n",
       "    </tr>\n",
       "    <tr>\n",
       "      <th>1</th>\n",
       "      <td>1001</td>\n",
       "      <td>8</td>\n",
       "      <td>27</td>\n",
       "      <td>182</td>\n",
       "    </tr>\n",
       "    <tr>\n",
       "      <th>2</th>\n",
       "      <td>1001</td>\n",
       "      <td>9</td>\n",
       "      <td>49</td>\n",
       "      <td>315</td>\n",
       "    </tr>\n",
       "    <tr>\n",
       "      <th>3</th>\n",
       "      <td>1001</td>\n",
       "      <td>10</td>\n",
       "      <td>65</td>\n",
       "      <td>393</td>\n",
       "    </tr>\n",
       "    <tr>\n",
       "      <th>4</th>\n",
       "      <td>1001</td>\n",
       "      <td>11</td>\n",
       "      <td>64</td>\n",
       "      <td>426</td>\n",
       "    </tr>\n",
       "    <tr>\n",
       "      <th>...</th>\n",
       "      <td>...</td>\n",
       "      <td>...</td>\n",
       "      <td>...</td>\n",
       "      <td>...</td>\n",
       "    </tr>\n",
       "    <tr>\n",
       "      <th>2253</th>\n",
       "      <td>1498</td>\n",
       "      <td>12</td>\n",
       "      <td>39</td>\n",
       "      <td>339</td>\n",
       "    </tr>\n",
       "    <tr>\n",
       "      <th>2254</th>\n",
       "      <td>1499</td>\n",
       "      <td>9</td>\n",
       "      <td>41</td>\n",
       "      <td>346</td>\n",
       "    </tr>\n",
       "    <tr>\n",
       "      <th>2255</th>\n",
       "      <td>1499</td>\n",
       "      <td>10</td>\n",
       "      <td>53</td>\n",
       "      <td>385</td>\n",
       "    </tr>\n",
       "    <tr>\n",
       "      <th>2256</th>\n",
       "      <td>1499</td>\n",
       "      <td>11</td>\n",
       "      <td>45</td>\n",
       "      <td>308</td>\n",
       "    </tr>\n",
       "    <tr>\n",
       "      <th>2257</th>\n",
       "      <td>1499</td>\n",
       "      <td>12</td>\n",
       "      <td>65</td>\n",
       "      <td>496</td>\n",
       "    </tr>\n",
       "  </tbody>\n",
       "</table>\n",
       "<p>2258 rows × 4 columns</p>\n",
       "</div>"
      ],
      "text/plain": [
       "      user_id  month  total_calls  total_minutes\n",
       "0        1000     12           16            124\n",
       "1        1001      8           27            182\n",
       "2        1001      9           49            315\n",
       "3        1001     10           65            393\n",
       "4        1001     11           64            426\n",
       "...       ...    ...          ...            ...\n",
       "2253     1498     12           39            339\n",
       "2254     1499      9           41            346\n",
       "2255     1499     10           53            385\n",
       "2256     1499     11           45            308\n",
       "2257     1499     12           65            496\n",
       "\n",
       "[2258 rows x 4 columns]"
      ]
     },
     "metadata": {},
     "output_type": "display_data"
    }
   ],
   "source": [
    "# Calculate the number of calls and total minutes made by each user per month\n",
    "\n",
    "df_total_calls = df_calls.groupby(['user_id','month']).agg({'duration_rounded':('count', 'sum')}).reset_index()\n",
    "df_total_calls.columns = ['user_id', 'month', 'total_calls', 'total_minutes']\n",
    "\n",
    "display(df_total_calls)"
   ]
  },
  {
   "attachments": {},
   "cell_type": "markdown",
   "metadata": {},
   "source": [
    "Same methodology from above can be applied here for the total messages sent per customer each month."
   ]
  },
  {
   "cell_type": "code",
   "execution_count": 20,
   "metadata": {},
   "outputs": [
    {
     "data": {
      "text/html": [
       "<div>\n",
       "<style scoped>\n",
       "    .dataframe tbody tr th:only-of-type {\n",
       "        vertical-align: middle;\n",
       "    }\n",
       "\n",
       "    .dataframe tbody tr th {\n",
       "        vertical-align: top;\n",
       "    }\n",
       "\n",
       "    .dataframe thead th {\n",
       "        text-align: right;\n",
       "    }\n",
       "</style>\n",
       "<table border=\"1\" class=\"dataframe\">\n",
       "  <thead>\n",
       "    <tr style=\"text-align: right;\">\n",
       "      <th></th>\n",
       "      <th>user_id</th>\n",
       "      <th>month</th>\n",
       "      <th>total_messages</th>\n",
       "    </tr>\n",
       "  </thead>\n",
       "  <tbody>\n",
       "    <tr>\n",
       "      <th>0</th>\n",
       "      <td>1000</td>\n",
       "      <td>12</td>\n",
       "      <td>11</td>\n",
       "    </tr>\n",
       "    <tr>\n",
       "      <th>1</th>\n",
       "      <td>1001</td>\n",
       "      <td>8</td>\n",
       "      <td>30</td>\n",
       "    </tr>\n",
       "    <tr>\n",
       "      <th>2</th>\n",
       "      <td>1001</td>\n",
       "      <td>9</td>\n",
       "      <td>44</td>\n",
       "    </tr>\n",
       "    <tr>\n",
       "      <th>3</th>\n",
       "      <td>1001</td>\n",
       "      <td>10</td>\n",
       "      <td>53</td>\n",
       "    </tr>\n",
       "    <tr>\n",
       "      <th>4</th>\n",
       "      <td>1001</td>\n",
       "      <td>11</td>\n",
       "      <td>36</td>\n",
       "    </tr>\n",
       "    <tr>\n",
       "      <th>...</th>\n",
       "      <td>...</td>\n",
       "      <td>...</td>\n",
       "      <td>...</td>\n",
       "    </tr>\n",
       "    <tr>\n",
       "      <th>1801</th>\n",
       "      <td>1496</td>\n",
       "      <td>9</td>\n",
       "      <td>21</td>\n",
       "    </tr>\n",
       "    <tr>\n",
       "      <th>1802</th>\n",
       "      <td>1496</td>\n",
       "      <td>10</td>\n",
       "      <td>18</td>\n",
       "    </tr>\n",
       "    <tr>\n",
       "      <th>1803</th>\n",
       "      <td>1496</td>\n",
       "      <td>11</td>\n",
       "      <td>13</td>\n",
       "    </tr>\n",
       "    <tr>\n",
       "      <th>1804</th>\n",
       "      <td>1496</td>\n",
       "      <td>12</td>\n",
       "      <td>11</td>\n",
       "    </tr>\n",
       "    <tr>\n",
       "      <th>1805</th>\n",
       "      <td>1497</td>\n",
       "      <td>12</td>\n",
       "      <td>50</td>\n",
       "    </tr>\n",
       "  </tbody>\n",
       "</table>\n",
       "<p>1806 rows × 3 columns</p>\n",
       "</div>"
      ],
      "text/plain": [
       "      user_id  month  total_messages\n",
       "0        1000     12              11\n",
       "1        1001      8              30\n",
       "2        1001      9              44\n",
       "3        1001     10              53\n",
       "4        1001     11              36\n",
       "...       ...    ...             ...\n",
       "1801     1496      9              21\n",
       "1802     1496     10              18\n",
       "1803     1496     11              13\n",
       "1804     1496     12              11\n",
       "1805     1497     12              50\n",
       "\n",
       "[1806 rows x 3 columns]"
      ]
     },
     "metadata": {},
     "output_type": "display_data"
    }
   ],
   "source": [
    "# Calculate the number of messages sent by each user per month\n",
    "\n",
    "df_total_messages = df_messages.groupby(['user_id', 'month'])['id'].count().reset_index(name='total_messages')\n",
    "\n",
    "display(df_total_messages)"
   ]
  },
  {
   "attachments": {},
   "cell_type": "markdown",
   "metadata": {},
   "source": [
    "Same methodology, groupby 'user_id' and 'month', and use sum() on 'mb_used'. We can further facilitate future calculations by converting the total data usage into GBs by dividing the value by 1024, rounding up using the ceil() method, and storing it into a new column 'total_gb_used'."
   ]
  },
  {
   "cell_type": "code",
   "execution_count": 21,
   "metadata": {},
   "outputs": [
    {
     "data": {
      "text/html": [
       "<div>\n",
       "<style scoped>\n",
       "    .dataframe tbody tr th:only-of-type {\n",
       "        vertical-align: middle;\n",
       "    }\n",
       "\n",
       "    .dataframe tbody tr th {\n",
       "        vertical-align: top;\n",
       "    }\n",
       "\n",
       "    .dataframe thead th {\n",
       "        text-align: right;\n",
       "    }\n",
       "</style>\n",
       "<table border=\"1\" class=\"dataframe\">\n",
       "  <thead>\n",
       "    <tr style=\"text-align: right;\">\n",
       "      <th></th>\n",
       "      <th>user_id</th>\n",
       "      <th>month</th>\n",
       "      <th>total_mb_used</th>\n",
       "      <th>total_gb_used</th>\n",
       "    </tr>\n",
       "  </thead>\n",
       "  <tbody>\n",
       "    <tr>\n",
       "      <th>0</th>\n",
       "      <td>1000</td>\n",
       "      <td>12</td>\n",
       "      <td>1901.47</td>\n",
       "      <td>2</td>\n",
       "    </tr>\n",
       "    <tr>\n",
       "      <th>1</th>\n",
       "      <td>1001</td>\n",
       "      <td>8</td>\n",
       "      <td>6919.15</td>\n",
       "      <td>7</td>\n",
       "    </tr>\n",
       "    <tr>\n",
       "      <th>2</th>\n",
       "      <td>1001</td>\n",
       "      <td>9</td>\n",
       "      <td>13314.82</td>\n",
       "      <td>14</td>\n",
       "    </tr>\n",
       "    <tr>\n",
       "      <th>3</th>\n",
       "      <td>1001</td>\n",
       "      <td>10</td>\n",
       "      <td>22330.49</td>\n",
       "      <td>22</td>\n",
       "    </tr>\n",
       "    <tr>\n",
       "      <th>4</th>\n",
       "      <td>1001</td>\n",
       "      <td>11</td>\n",
       "      <td>18504.30</td>\n",
       "      <td>19</td>\n",
       "    </tr>\n",
       "    <tr>\n",
       "      <th>...</th>\n",
       "      <td>...</td>\n",
       "      <td>...</td>\n",
       "      <td>...</td>\n",
       "      <td>...</td>\n",
       "    </tr>\n",
       "    <tr>\n",
       "      <th>2272</th>\n",
       "      <td>1498</td>\n",
       "      <td>12</td>\n",
       "      <td>23137.69</td>\n",
       "      <td>23</td>\n",
       "    </tr>\n",
       "    <tr>\n",
       "      <th>2273</th>\n",
       "      <td>1499</td>\n",
       "      <td>9</td>\n",
       "      <td>12984.76</td>\n",
       "      <td>13</td>\n",
       "    </tr>\n",
       "    <tr>\n",
       "      <th>2274</th>\n",
       "      <td>1499</td>\n",
       "      <td>10</td>\n",
       "      <td>19492.43</td>\n",
       "      <td>20</td>\n",
       "    </tr>\n",
       "    <tr>\n",
       "      <th>2275</th>\n",
       "      <td>1499</td>\n",
       "      <td>11</td>\n",
       "      <td>16813.83</td>\n",
       "      <td>17</td>\n",
       "    </tr>\n",
       "    <tr>\n",
       "      <th>2276</th>\n",
       "      <td>1499</td>\n",
       "      <td>12</td>\n",
       "      <td>22059.21</td>\n",
       "      <td>22</td>\n",
       "    </tr>\n",
       "  </tbody>\n",
       "</table>\n",
       "<p>2277 rows × 4 columns</p>\n",
       "</div>"
      ],
      "text/plain": [
       "      user_id  month  total_mb_used  total_gb_used\n",
       "0        1000     12        1901.47              2\n",
       "1        1001      8        6919.15              7\n",
       "2        1001      9       13314.82             14\n",
       "3        1001     10       22330.49             22\n",
       "4        1001     11       18504.30             19\n",
       "...       ...    ...            ...            ...\n",
       "2272     1498     12       23137.69             23\n",
       "2273     1499      9       12984.76             13\n",
       "2274     1499     10       19492.43             20\n",
       "2275     1499     11       16813.83             17\n",
       "2276     1499     12       22059.21             22\n",
       "\n",
       "[2277 rows x 4 columns]"
      ]
     },
     "metadata": {},
     "output_type": "display_data"
    }
   ],
   "source": [
    "# Calculate the volume of internet traffic used by each user per month\n",
    "\n",
    "df_total_traffic = df_internet.groupby(['user_id', 'month'])['mb_used'].sum().reset_index(name='total_mb_used')\n",
    "df_total_traffic['total_gb_used'] = np.ceil(df_total_traffic['total_mb_used']/1024).astype('int')\n",
    "\n",
    "display(df_total_traffic)"
   ]
  },
  {
   "attachments": {},
   "cell_type": "markdown",
   "metadata": {},
   "source": [
    "We can combine our calculations into a single DataFrame by performing an outer merge on the datasets on both the 'user_id' and 'month' columns."
   ]
  },
  {
   "cell_type": "code",
   "execution_count": 22,
   "metadata": {},
   "outputs": [
    {
     "data": {
      "text/html": [
       "<div>\n",
       "<style scoped>\n",
       "    .dataframe tbody tr th:only-of-type {\n",
       "        vertical-align: middle;\n",
       "    }\n",
       "\n",
       "    .dataframe tbody tr th {\n",
       "        vertical-align: top;\n",
       "    }\n",
       "\n",
       "    .dataframe thead th {\n",
       "        text-align: right;\n",
       "    }\n",
       "</style>\n",
       "<table border=\"1\" class=\"dataframe\">\n",
       "  <thead>\n",
       "    <tr style=\"text-align: right;\">\n",
       "      <th></th>\n",
       "      <th>user_id</th>\n",
       "      <th>month</th>\n",
       "      <th>total_calls</th>\n",
       "      <th>total_minutes</th>\n",
       "      <th>total_messages</th>\n",
       "      <th>total_mb_used</th>\n",
       "      <th>total_gb_used</th>\n",
       "    </tr>\n",
       "  </thead>\n",
       "  <tbody>\n",
       "    <tr>\n",
       "      <th>0</th>\n",
       "      <td>1000</td>\n",
       "      <td>12</td>\n",
       "      <td>16.0</td>\n",
       "      <td>124.0</td>\n",
       "      <td>11.0</td>\n",
       "      <td>1901.47</td>\n",
       "      <td>2.0</td>\n",
       "    </tr>\n",
       "    <tr>\n",
       "      <th>1</th>\n",
       "      <td>1001</td>\n",
       "      <td>8</td>\n",
       "      <td>27.0</td>\n",
       "      <td>182.0</td>\n",
       "      <td>30.0</td>\n",
       "      <td>6919.15</td>\n",
       "      <td>7.0</td>\n",
       "    </tr>\n",
       "    <tr>\n",
       "      <th>2</th>\n",
       "      <td>1001</td>\n",
       "      <td>9</td>\n",
       "      <td>49.0</td>\n",
       "      <td>315.0</td>\n",
       "      <td>44.0</td>\n",
       "      <td>13314.82</td>\n",
       "      <td>14.0</td>\n",
       "    </tr>\n",
       "    <tr>\n",
       "      <th>3</th>\n",
       "      <td>1001</td>\n",
       "      <td>10</td>\n",
       "      <td>65.0</td>\n",
       "      <td>393.0</td>\n",
       "      <td>53.0</td>\n",
       "      <td>22330.49</td>\n",
       "      <td>22.0</td>\n",
       "    </tr>\n",
       "    <tr>\n",
       "      <th>4</th>\n",
       "      <td>1001</td>\n",
       "      <td>11</td>\n",
       "      <td>64.0</td>\n",
       "      <td>426.0</td>\n",
       "      <td>36.0</td>\n",
       "      <td>18504.30</td>\n",
       "      <td>19.0</td>\n",
       "    </tr>\n",
       "    <tr>\n",
       "      <th>...</th>\n",
       "      <td>...</td>\n",
       "      <td>...</td>\n",
       "      <td>...</td>\n",
       "      <td>...</td>\n",
       "      <td>...</td>\n",
       "      <td>...</td>\n",
       "      <td>...</td>\n",
       "    </tr>\n",
       "    <tr>\n",
       "      <th>2288</th>\n",
       "      <td>1349</td>\n",
       "      <td>12</td>\n",
       "      <td>NaN</td>\n",
       "      <td>NaN</td>\n",
       "      <td>61.0</td>\n",
       "      <td>13039.91</td>\n",
       "      <td>13.0</td>\n",
       "    </tr>\n",
       "    <tr>\n",
       "      <th>2289</th>\n",
       "      <td>1361</td>\n",
       "      <td>5</td>\n",
       "      <td>NaN</td>\n",
       "      <td>NaN</td>\n",
       "      <td>2.0</td>\n",
       "      <td>1519.69</td>\n",
       "      <td>2.0</td>\n",
       "    </tr>\n",
       "    <tr>\n",
       "      <th>2290</th>\n",
       "      <td>1482</td>\n",
       "      <td>10</td>\n",
       "      <td>NaN</td>\n",
       "      <td>NaN</td>\n",
       "      <td>2.0</td>\n",
       "      <td>NaN</td>\n",
       "      <td>NaN</td>\n",
       "    </tr>\n",
       "    <tr>\n",
       "      <th>2291</th>\n",
       "      <td>1108</td>\n",
       "      <td>12</td>\n",
       "      <td>NaN</td>\n",
       "      <td>NaN</td>\n",
       "      <td>NaN</td>\n",
       "      <td>233.17</td>\n",
       "      <td>1.0</td>\n",
       "    </tr>\n",
       "    <tr>\n",
       "      <th>2292</th>\n",
       "      <td>1311</td>\n",
       "      <td>6</td>\n",
       "      <td>NaN</td>\n",
       "      <td>NaN</td>\n",
       "      <td>NaN</td>\n",
       "      <td>1498.83</td>\n",
       "      <td>2.0</td>\n",
       "    </tr>\n",
       "  </tbody>\n",
       "</table>\n",
       "<p>2293 rows × 7 columns</p>\n",
       "</div>"
      ],
      "text/plain": [
       "      user_id  month  total_calls  total_minutes  total_messages  \\\n",
       "0        1000     12         16.0          124.0            11.0   \n",
       "1        1001      8         27.0          182.0            30.0   \n",
       "2        1001      9         49.0          315.0            44.0   \n",
       "3        1001     10         65.0          393.0            53.0   \n",
       "4        1001     11         64.0          426.0            36.0   \n",
       "...       ...    ...          ...            ...             ...   \n",
       "2288     1349     12          NaN            NaN            61.0   \n",
       "2289     1361      5          NaN            NaN             2.0   \n",
       "2290     1482     10          NaN            NaN             2.0   \n",
       "2291     1108     12          NaN            NaN             NaN   \n",
       "2292     1311      6          NaN            NaN             NaN   \n",
       "\n",
       "      total_mb_used  total_gb_used  \n",
       "0           1901.47            2.0  \n",
       "1           6919.15            7.0  \n",
       "2          13314.82           14.0  \n",
       "3          22330.49           22.0  \n",
       "4          18504.30           19.0  \n",
       "...             ...            ...  \n",
       "2288       13039.91           13.0  \n",
       "2289        1519.69            2.0  \n",
       "2290            NaN            NaN  \n",
       "2291         233.17            1.0  \n",
       "2292        1498.83            2.0  \n",
       "\n",
       "[2293 rows x 7 columns]"
      ]
     },
     "metadata": {},
     "output_type": "display_data"
    }
   ],
   "source": [
    "# Merge the data for calls, minutes, messages, internet based on user_id and month\n",
    "\n",
    "df_merged = df_total_calls.merge(df_total_messages, on=['user_id', 'month'], how='outer')\n",
    "df_merged = df_merged.merge(df_total_traffic, on=['user_id','month'], how='outer')\n",
    "\n",
    "display(df_merged)"
   ]
  },
  {
   "attachments": {},
   "cell_type": "markdown",
   "metadata": {},
   "source": [
    "We can replace the NaN values inserted during the merge with zeros, and type-change the columns back to integer."
   ]
  },
  {
   "cell_type": "code",
   "execution_count": 23,
   "metadata": {},
   "outputs": [
    {
     "name": "stdout",
     "output_type": "stream",
     "text": [
      "<class 'pandas.core.frame.DataFrame'>\n",
      "Int64Index: 2293 entries, 0 to 2292\n",
      "Data columns (total 7 columns):\n",
      " #   Column          Non-Null Count  Dtype  \n",
      "---  ------          --------------  -----  \n",
      " 0   user_id         2293 non-null   int64  \n",
      " 1   month           2293 non-null   int64  \n",
      " 2   total_calls     2293 non-null   int32  \n",
      " 3   total_minutes   2293 non-null   int32  \n",
      " 4   total_messages  2293 non-null   int32  \n",
      " 5   total_mb_used   2293 non-null   float64\n",
      " 6   total_gb_used   2293 non-null   int32  \n",
      "dtypes: float64(1), int32(4), int64(2)\n",
      "memory usage: 107.5 KB\n"
     ]
    },
    {
     "data": {
      "text/html": [
       "<div>\n",
       "<style scoped>\n",
       "    .dataframe tbody tr th:only-of-type {\n",
       "        vertical-align: middle;\n",
       "    }\n",
       "\n",
       "    .dataframe tbody tr th {\n",
       "        vertical-align: top;\n",
       "    }\n",
       "\n",
       "    .dataframe thead th {\n",
       "        text-align: right;\n",
       "    }\n",
       "</style>\n",
       "<table border=\"1\" class=\"dataframe\">\n",
       "  <thead>\n",
       "    <tr style=\"text-align: right;\">\n",
       "      <th></th>\n",
       "      <th>user_id</th>\n",
       "      <th>month</th>\n",
       "      <th>total_calls</th>\n",
       "      <th>total_minutes</th>\n",
       "      <th>total_messages</th>\n",
       "      <th>total_mb_used</th>\n",
       "      <th>total_gb_used</th>\n",
       "    </tr>\n",
       "  </thead>\n",
       "  <tbody>\n",
       "    <tr>\n",
       "      <th>0</th>\n",
       "      <td>1000</td>\n",
       "      <td>12</td>\n",
       "      <td>16</td>\n",
       "      <td>124</td>\n",
       "      <td>11</td>\n",
       "      <td>1901.47</td>\n",
       "      <td>2</td>\n",
       "    </tr>\n",
       "    <tr>\n",
       "      <th>1</th>\n",
       "      <td>1001</td>\n",
       "      <td>8</td>\n",
       "      <td>27</td>\n",
       "      <td>182</td>\n",
       "      <td>30</td>\n",
       "      <td>6919.15</td>\n",
       "      <td>7</td>\n",
       "    </tr>\n",
       "    <tr>\n",
       "      <th>2</th>\n",
       "      <td>1001</td>\n",
       "      <td>9</td>\n",
       "      <td>49</td>\n",
       "      <td>315</td>\n",
       "      <td>44</td>\n",
       "      <td>13314.82</td>\n",
       "      <td>14</td>\n",
       "    </tr>\n",
       "    <tr>\n",
       "      <th>3</th>\n",
       "      <td>1001</td>\n",
       "      <td>10</td>\n",
       "      <td>65</td>\n",
       "      <td>393</td>\n",
       "      <td>53</td>\n",
       "      <td>22330.49</td>\n",
       "      <td>22</td>\n",
       "    </tr>\n",
       "    <tr>\n",
       "      <th>4</th>\n",
       "      <td>1001</td>\n",
       "      <td>11</td>\n",
       "      <td>64</td>\n",
       "      <td>426</td>\n",
       "      <td>36</td>\n",
       "      <td>18504.30</td>\n",
       "      <td>19</td>\n",
       "    </tr>\n",
       "    <tr>\n",
       "      <th>...</th>\n",
       "      <td>...</td>\n",
       "      <td>...</td>\n",
       "      <td>...</td>\n",
       "      <td>...</td>\n",
       "      <td>...</td>\n",
       "      <td>...</td>\n",
       "      <td>...</td>\n",
       "    </tr>\n",
       "    <tr>\n",
       "      <th>2288</th>\n",
       "      <td>1349</td>\n",
       "      <td>12</td>\n",
       "      <td>0</td>\n",
       "      <td>0</td>\n",
       "      <td>61</td>\n",
       "      <td>13039.91</td>\n",
       "      <td>13</td>\n",
       "    </tr>\n",
       "    <tr>\n",
       "      <th>2289</th>\n",
       "      <td>1361</td>\n",
       "      <td>5</td>\n",
       "      <td>0</td>\n",
       "      <td>0</td>\n",
       "      <td>2</td>\n",
       "      <td>1519.69</td>\n",
       "      <td>2</td>\n",
       "    </tr>\n",
       "    <tr>\n",
       "      <th>2290</th>\n",
       "      <td>1482</td>\n",
       "      <td>10</td>\n",
       "      <td>0</td>\n",
       "      <td>0</td>\n",
       "      <td>2</td>\n",
       "      <td>0.00</td>\n",
       "      <td>0</td>\n",
       "    </tr>\n",
       "    <tr>\n",
       "      <th>2291</th>\n",
       "      <td>1108</td>\n",
       "      <td>12</td>\n",
       "      <td>0</td>\n",
       "      <td>0</td>\n",
       "      <td>0</td>\n",
       "      <td>233.17</td>\n",
       "      <td>1</td>\n",
       "    </tr>\n",
       "    <tr>\n",
       "      <th>2292</th>\n",
       "      <td>1311</td>\n",
       "      <td>6</td>\n",
       "      <td>0</td>\n",
       "      <td>0</td>\n",
       "      <td>0</td>\n",
       "      <td>1498.83</td>\n",
       "      <td>2</td>\n",
       "    </tr>\n",
       "  </tbody>\n",
       "</table>\n",
       "<p>2293 rows × 7 columns</p>\n",
       "</div>"
      ],
      "text/plain": [
       "      user_id  month  total_calls  total_minutes  total_messages  \\\n",
       "0        1000     12           16            124              11   \n",
       "1        1001      8           27            182              30   \n",
       "2        1001      9           49            315              44   \n",
       "3        1001     10           65            393              53   \n",
       "4        1001     11           64            426              36   \n",
       "...       ...    ...          ...            ...             ...   \n",
       "2288     1349     12            0              0              61   \n",
       "2289     1361      5            0              0               2   \n",
       "2290     1482     10            0              0               2   \n",
       "2291     1108     12            0              0               0   \n",
       "2292     1311      6            0              0               0   \n",
       "\n",
       "      total_mb_used  total_gb_used  \n",
       "0           1901.47              2  \n",
       "1           6919.15              7  \n",
       "2          13314.82             14  \n",
       "3          22330.49             22  \n",
       "4          18504.30             19  \n",
       "...             ...            ...  \n",
       "2288       13039.91             13  \n",
       "2289        1519.69              2  \n",
       "2290           0.00              0  \n",
       "2291         233.17              1  \n",
       "2292        1498.83              2  \n",
       "\n",
       "[2293 rows x 7 columns]"
      ]
     },
     "metadata": {},
     "output_type": "display_data"
    }
   ],
   "source": [
    "df_merged.replace(np.NaN, 0.0, inplace=True)\n",
    "df_merged = df_merged.astype({'total_calls':'int',\n",
    "                             'total_minutes':'int',\n",
    "                             'total_messages':'int',\n",
    "                             'total_gb_used':'int'})\n",
    "\n",
    "df_merged.info()\n",
    "display(df_merged)"
   ]
  },
  {
   "attachments": {},
   "cell_type": "markdown",
   "metadata": {},
   "source": [
    "We can add the plan name by:\n",
    "- Slicing the user dataset to get a DataFrame of user IDs and plans\n",
    "- Then combine the result with the aggregate dataset above, merging on 'user_id'."
   ]
  },
  {
   "cell_type": "code",
   "execution_count": 24,
   "metadata": {},
   "outputs": [
    {
     "data": {
      "text/html": [
       "<div>\n",
       "<style scoped>\n",
       "    .dataframe tbody tr th:only-of-type {\n",
       "        vertical-align: middle;\n",
       "    }\n",
       "\n",
       "    .dataframe tbody tr th {\n",
       "        vertical-align: top;\n",
       "    }\n",
       "\n",
       "    .dataframe thead th {\n",
       "        text-align: right;\n",
       "    }\n",
       "</style>\n",
       "<table border=\"1\" class=\"dataframe\">\n",
       "  <thead>\n",
       "    <tr style=\"text-align: right;\">\n",
       "      <th></th>\n",
       "      <th>user_id</th>\n",
       "      <th>month</th>\n",
       "      <th>total_calls</th>\n",
       "      <th>total_minutes</th>\n",
       "      <th>total_messages</th>\n",
       "      <th>total_mb_used</th>\n",
       "      <th>total_gb_used</th>\n",
       "      <th>plan</th>\n",
       "    </tr>\n",
       "  </thead>\n",
       "  <tbody>\n",
       "    <tr>\n",
       "      <th>0</th>\n",
       "      <td>1000</td>\n",
       "      <td>12</td>\n",
       "      <td>16</td>\n",
       "      <td>124</td>\n",
       "      <td>11</td>\n",
       "      <td>1901.47</td>\n",
       "      <td>2</td>\n",
       "      <td>ultimate</td>\n",
       "    </tr>\n",
       "    <tr>\n",
       "      <th>1</th>\n",
       "      <td>1001</td>\n",
       "      <td>8</td>\n",
       "      <td>27</td>\n",
       "      <td>182</td>\n",
       "      <td>30</td>\n",
       "      <td>6919.15</td>\n",
       "      <td>7</td>\n",
       "      <td>surf</td>\n",
       "    </tr>\n",
       "    <tr>\n",
       "      <th>2</th>\n",
       "      <td>1001</td>\n",
       "      <td>9</td>\n",
       "      <td>49</td>\n",
       "      <td>315</td>\n",
       "      <td>44</td>\n",
       "      <td>13314.82</td>\n",
       "      <td>14</td>\n",
       "      <td>surf</td>\n",
       "    </tr>\n",
       "    <tr>\n",
       "      <th>3</th>\n",
       "      <td>1001</td>\n",
       "      <td>10</td>\n",
       "      <td>65</td>\n",
       "      <td>393</td>\n",
       "      <td>53</td>\n",
       "      <td>22330.49</td>\n",
       "      <td>22</td>\n",
       "      <td>surf</td>\n",
       "    </tr>\n",
       "    <tr>\n",
       "      <th>4</th>\n",
       "      <td>1001</td>\n",
       "      <td>11</td>\n",
       "      <td>64</td>\n",
       "      <td>426</td>\n",
       "      <td>36</td>\n",
       "      <td>18504.30</td>\n",
       "      <td>19</td>\n",
       "      <td>surf</td>\n",
       "    </tr>\n",
       "    <tr>\n",
       "      <th>...</th>\n",
       "      <td>...</td>\n",
       "      <td>...</td>\n",
       "      <td>...</td>\n",
       "      <td>...</td>\n",
       "      <td>...</td>\n",
       "      <td>...</td>\n",
       "      <td>...</td>\n",
       "      <td>...</td>\n",
       "    </tr>\n",
       "    <tr>\n",
       "      <th>2288</th>\n",
       "      <td>1204</td>\n",
       "      <td>12</td>\n",
       "      <td>0</td>\n",
       "      <td>0</td>\n",
       "      <td>78</td>\n",
       "      <td>36730.05</td>\n",
       "      <td>36</td>\n",
       "      <td>ultimate</td>\n",
       "    </tr>\n",
       "    <tr>\n",
       "      <th>2289</th>\n",
       "      <td>1349</td>\n",
       "      <td>10</td>\n",
       "      <td>0</td>\n",
       "      <td>0</td>\n",
       "      <td>76</td>\n",
       "      <td>13093.55</td>\n",
       "      <td>13</td>\n",
       "      <td>surf</td>\n",
       "    </tr>\n",
       "    <tr>\n",
       "      <th>2290</th>\n",
       "      <td>1349</td>\n",
       "      <td>11</td>\n",
       "      <td>0</td>\n",
       "      <td>0</td>\n",
       "      <td>72</td>\n",
       "      <td>17128.26</td>\n",
       "      <td>17</td>\n",
       "      <td>surf</td>\n",
       "    </tr>\n",
       "    <tr>\n",
       "      <th>2291</th>\n",
       "      <td>1349</td>\n",
       "      <td>12</td>\n",
       "      <td>0</td>\n",
       "      <td>0</td>\n",
       "      <td>61</td>\n",
       "      <td>13039.91</td>\n",
       "      <td>13</td>\n",
       "      <td>surf</td>\n",
       "    </tr>\n",
       "    <tr>\n",
       "      <th>2292</th>\n",
       "      <td>1108</td>\n",
       "      <td>12</td>\n",
       "      <td>0</td>\n",
       "      <td>0</td>\n",
       "      <td>0</td>\n",
       "      <td>233.17</td>\n",
       "      <td>1</td>\n",
       "      <td>ultimate</td>\n",
       "    </tr>\n",
       "  </tbody>\n",
       "</table>\n",
       "<p>2293 rows × 8 columns</p>\n",
       "</div>"
      ],
      "text/plain": [
       "      user_id  month  total_calls  total_minutes  total_messages  \\\n",
       "0        1000     12           16            124              11   \n",
       "1        1001      8           27            182              30   \n",
       "2        1001      9           49            315              44   \n",
       "3        1001     10           65            393              53   \n",
       "4        1001     11           64            426              36   \n",
       "...       ...    ...          ...            ...             ...   \n",
       "2288     1204     12            0              0              78   \n",
       "2289     1349     10            0              0              76   \n",
       "2290     1349     11            0              0              72   \n",
       "2291     1349     12            0              0              61   \n",
       "2292     1108     12            0              0               0   \n",
       "\n",
       "      total_mb_used  total_gb_used      plan  \n",
       "0           1901.47              2  ultimate  \n",
       "1           6919.15              7      surf  \n",
       "2          13314.82             14      surf  \n",
       "3          22330.49             22      surf  \n",
       "4          18504.30             19      surf  \n",
       "...             ...            ...       ...  \n",
       "2288       36730.05             36  ultimate  \n",
       "2289       13093.55             13      surf  \n",
       "2290       17128.26             17      surf  \n",
       "2291       13039.91             13      surf  \n",
       "2292         233.17              1  ultimate  \n",
       "\n",
       "[2293 rows x 8 columns]"
      ]
     },
     "metadata": {},
     "output_type": "display_data"
    }
   ],
   "source": [
    "# Add the plan information\n",
    "\n",
    "df_user_plan = df_users[['user_id', 'plan']]\n",
    "df_plan_merged = df_merged.merge(df_user_plan, on='user_id')\n",
    "\n",
    "display(df_plan_merged)"
   ]
  },
  {
   "attachments": {},
   "cell_type": "markdown",
   "metadata": {},
   "source": [
    "To calculate the monthly revenue, we'll define the function <code>calc_revenue</code>, which takes a DataFrame row as a parameter and returns the total monthly revenue based on a customer's usage as follows:\n",
    "\n",
    "1. Extracts plan details (limits, overage costs, etc) from the plan dataset via plan name from provided row\n",
    "2. Takes the difference in customer usage and plan limit and stores the result in a NumPy array\n",
    "3. Constructs an array of the plan overage costs for each feature\n",
    "4. Clips the customer usage to calculate overages (negative values indicate there were no overages, thus rounded to 0)\n",
    "5. Performs NumPy multiplication of the two arrays to calculate individual revenue generated by each feature overage\n",
    "6. Performs NumPy sum of the result and added to the base plan cost to calculate overall revenue\n",
    "\n",
    "**Returns**: A floating point number of the caluclated revenue.\n",
    "\n",
    "The function is applied to each row of the merged DataFrame using the <code>apply()</code> method and specifying the parameter, <code>axis=1</code>. A sample of the merged DataFrame is printed after <code>calc_revenue</code> was applied."
   ]
  },
  {
   "cell_type": "code",
   "execution_count": 25,
   "metadata": {},
   "outputs": [
    {
     "data": {
      "text/html": [
       "<div>\n",
       "<style scoped>\n",
       "    .dataframe tbody tr th:only-of-type {\n",
       "        vertical-align: middle;\n",
       "    }\n",
       "\n",
       "    .dataframe tbody tr th {\n",
       "        vertical-align: top;\n",
       "    }\n",
       "\n",
       "    .dataframe thead th {\n",
       "        text-align: right;\n",
       "    }\n",
       "</style>\n",
       "<table border=\"1\" class=\"dataframe\">\n",
       "  <thead>\n",
       "    <tr style=\"text-align: right;\">\n",
       "      <th></th>\n",
       "      <th>user_id</th>\n",
       "      <th>month</th>\n",
       "      <th>total_calls</th>\n",
       "      <th>total_minutes</th>\n",
       "      <th>total_messages</th>\n",
       "      <th>total_mb_used</th>\n",
       "      <th>total_gb_used</th>\n",
       "      <th>plan</th>\n",
       "      <th>monthly_revenue</th>\n",
       "    </tr>\n",
       "  </thead>\n",
       "  <tbody>\n",
       "    <tr>\n",
       "      <th>0</th>\n",
       "      <td>1000</td>\n",
       "      <td>12</td>\n",
       "      <td>16</td>\n",
       "      <td>124</td>\n",
       "      <td>11</td>\n",
       "      <td>1901.47</td>\n",
       "      <td>2</td>\n",
       "      <td>ultimate</td>\n",
       "      <td>70.00</td>\n",
       "    </tr>\n",
       "    <tr>\n",
       "      <th>1</th>\n",
       "      <td>1001</td>\n",
       "      <td>8</td>\n",
       "      <td>27</td>\n",
       "      <td>182</td>\n",
       "      <td>30</td>\n",
       "      <td>6919.15</td>\n",
       "      <td>7</td>\n",
       "      <td>surf</td>\n",
       "      <td>20.00</td>\n",
       "    </tr>\n",
       "    <tr>\n",
       "      <th>2</th>\n",
       "      <td>1001</td>\n",
       "      <td>9</td>\n",
       "      <td>49</td>\n",
       "      <td>315</td>\n",
       "      <td>44</td>\n",
       "      <td>13314.82</td>\n",
       "      <td>14</td>\n",
       "      <td>surf</td>\n",
       "      <td>20.00</td>\n",
       "    </tr>\n",
       "    <tr>\n",
       "      <th>3</th>\n",
       "      <td>1001</td>\n",
       "      <td>10</td>\n",
       "      <td>65</td>\n",
       "      <td>393</td>\n",
       "      <td>53</td>\n",
       "      <td>22330.49</td>\n",
       "      <td>22</td>\n",
       "      <td>surf</td>\n",
       "      <td>90.09</td>\n",
       "    </tr>\n",
       "    <tr>\n",
       "      <th>4</th>\n",
       "      <td>1001</td>\n",
       "      <td>11</td>\n",
       "      <td>64</td>\n",
       "      <td>426</td>\n",
       "      <td>36</td>\n",
       "      <td>18504.30</td>\n",
       "      <td>19</td>\n",
       "      <td>surf</td>\n",
       "      <td>60.00</td>\n",
       "    </tr>\n",
       "    <tr>\n",
       "      <th>...</th>\n",
       "      <td>...</td>\n",
       "      <td>...</td>\n",
       "      <td>...</td>\n",
       "      <td>...</td>\n",
       "      <td>...</td>\n",
       "      <td>...</td>\n",
       "      <td>...</td>\n",
       "      <td>...</td>\n",
       "      <td>...</td>\n",
       "    </tr>\n",
       "    <tr>\n",
       "      <th>2288</th>\n",
       "      <td>1204</td>\n",
       "      <td>12</td>\n",
       "      <td>0</td>\n",
       "      <td>0</td>\n",
       "      <td>78</td>\n",
       "      <td>36730.05</td>\n",
       "      <td>36</td>\n",
       "      <td>ultimate</td>\n",
       "      <td>112.00</td>\n",
       "    </tr>\n",
       "    <tr>\n",
       "      <th>2289</th>\n",
       "      <td>1349</td>\n",
       "      <td>10</td>\n",
       "      <td>0</td>\n",
       "      <td>0</td>\n",
       "      <td>76</td>\n",
       "      <td>13093.55</td>\n",
       "      <td>13</td>\n",
       "      <td>surf</td>\n",
       "      <td>20.78</td>\n",
       "    </tr>\n",
       "    <tr>\n",
       "      <th>2290</th>\n",
       "      <td>1349</td>\n",
       "      <td>11</td>\n",
       "      <td>0</td>\n",
       "      <td>0</td>\n",
       "      <td>72</td>\n",
       "      <td>17128.26</td>\n",
       "      <td>17</td>\n",
       "      <td>surf</td>\n",
       "      <td>40.66</td>\n",
       "    </tr>\n",
       "    <tr>\n",
       "      <th>2291</th>\n",
       "      <td>1349</td>\n",
       "      <td>12</td>\n",
       "      <td>0</td>\n",
       "      <td>0</td>\n",
       "      <td>61</td>\n",
       "      <td>13039.91</td>\n",
       "      <td>13</td>\n",
       "      <td>surf</td>\n",
       "      <td>20.33</td>\n",
       "    </tr>\n",
       "    <tr>\n",
       "      <th>2292</th>\n",
       "      <td>1108</td>\n",
       "      <td>12</td>\n",
       "      <td>0</td>\n",
       "      <td>0</td>\n",
       "      <td>0</td>\n",
       "      <td>233.17</td>\n",
       "      <td>1</td>\n",
       "      <td>ultimate</td>\n",
       "      <td>70.00</td>\n",
       "    </tr>\n",
       "  </tbody>\n",
       "</table>\n",
       "<p>2293 rows × 9 columns</p>\n",
       "</div>"
      ],
      "text/plain": [
       "      user_id  month  total_calls  total_minutes  total_messages  \\\n",
       "0        1000     12           16            124              11   \n",
       "1        1001      8           27            182              30   \n",
       "2        1001      9           49            315              44   \n",
       "3        1001     10           65            393              53   \n",
       "4        1001     11           64            426              36   \n",
       "...       ...    ...          ...            ...             ...   \n",
       "2288     1204     12            0              0              78   \n",
       "2289     1349     10            0              0              76   \n",
       "2290     1349     11            0              0              72   \n",
       "2291     1349     12            0              0              61   \n",
       "2292     1108     12            0              0               0   \n",
       "\n",
       "      total_mb_used  total_gb_used      plan  monthly_revenue  \n",
       "0           1901.47              2  ultimate            70.00  \n",
       "1           6919.15              7      surf            20.00  \n",
       "2          13314.82             14      surf            20.00  \n",
       "3          22330.49             22      surf            90.09  \n",
       "4          18504.30             19      surf            60.00  \n",
       "...             ...            ...       ...              ...  \n",
       "2288       36730.05             36  ultimate           112.00  \n",
       "2289       13093.55             13      surf            20.78  \n",
       "2290       17128.26             17      surf            40.66  \n",
       "2291       13039.91             13      surf            20.33  \n",
       "2292         233.17              1  ultimate            70.00  \n",
       "\n",
       "[2293 rows x 9 columns]"
      ]
     },
     "metadata": {},
     "output_type": "display_data"
    }
   ],
   "source": [
    "def calc_revenue(row):\n",
    "    plan_details = df_plans[df_plans['plan_name'] == row['plan']]\n",
    "    \n",
    "    revenue = plan_details['usd_monthly_pay']\n",
    " \n",
    "    diff = np.array([row['total_minutes'] - plan_details['minutes_included'],\n",
    "                     row['total_gb_used'] - plan_details['gb_per_month_included'],\n",
    "                     row['total_messages'] - plan_details['messages_included']])\n",
    "    \n",
    "    plan_limits = np.array([plan_details['usd_per_minute'],\n",
    "                           plan_details['usd_per_gb'],\n",
    "                           plan_details['usd_per_message']])\n",
    "\n",
    "    total_usage = np.clip(diff, a_min=0, a_max=None)\n",
    "    revenue += np.sum(np.multiply(total_usage, plan_limits))\n",
    "\n",
    "    return float(revenue)\n",
    "\n",
    "df_plan_merged['monthly_revenue'] = df_plan_merged.apply(calc_revenue, axis=1)\n",
    "display(df_plan_merged)"
   ]
  },
  {
   "attachments": {},
   "cell_type": "markdown",
   "metadata": {},
   "source": [
    "## Study User Behavior"
   ]
  },
  {
   "attachments": {},
   "cell_type": "markdown",
   "metadata": {},
   "source": [
    "To calculate useful, descriptive statistics for the aggregated and merged data, we can first visualize the data to reveal an overall picture for monthly user behavior with respect to call, text, and data usage. Data visualization can also quickly reveal outlier datapoints, which we can take into account when addressing various conclusions and hypotheses."
   ]
  },
  {
   "attachments": {},
   "cell_type": "markdown",
   "metadata": {},
   "source": [
    "### Calls"
   ]
  },
  {
   "attachments": {},
   "cell_type": "markdown",
   "metadata": {},
   "source": [
    "We can visualize average monthly call duration for each plan by slicing the merged DataFrame by each plan, Surf and Ultimate. We can then group each slice by month and apply the <code>mean()</code> method to find the monthly average call duration."
   ]
  },
  {
   "cell_type": "code",
   "execution_count": 26,
   "metadata": {},
   "outputs": [
    {
     "data": {
      "image/png": "[encoded data removed]",
      "text/plain": [
       "<Figure size 1000x500 with 1 Axes>"
      ]
     },
     "metadata": {},
     "output_type": "display_data"
    }
   ],
   "source": [
    "# Compare average duration of calls per each plan per each distinct month. Plot a bar plot to visualize it.\n",
    "\n",
    "surf_calcs = df_plan_merged[df_plan_merged['plan'] == 'surf']\n",
    "ult_calcs = df_plan_merged[df_plan_merged['plan'] == 'ultimate']\n",
    "\n",
    "surf_calcs.groupby('month')['total_minutes'].mean().plot(kind='bar',\n",
    "                                                         figsize=(10, 5),\n",
    "                                                         color='darkorange')\n",
    "ult_calcs.groupby('month')['total_minutes'].mean().plot(kind='bar', alpha=0.5)\n",
    "\n",
    "plt.title('Average Monthly Call Duration by Plan')\n",
    "plt.xlabel('Month')\n",
    "plt.ylabel('Average Total Minutes')\n",
    "plt.legend(['Surf','Ultimate'], loc='upper left')\n",
    "plt.show()"
   ]
  },
  {
   "attachments": {},
   "cell_type": "markdown",
   "metadata": {},
   "source": [
    "The following function automates showing certain aggregate functions. Takes a DataFrame, index name, and column name as parameters. Displays the mean, variance, standard deviation, and median of the values in the specified column name, grouped by the index name(s)."
   ]
  },
  {
   "cell_type": "code",
   "execution_count": 27,
   "metadata": {},
   "outputs": [],
   "source": [
    "def get_stats(df, idx_name, column_name):\n",
    "    display(df.pivot_table(index=idx_name, values=column_name, aggfunc=['mean', 'var', 'std', 'median']))"
   ]
  },
  {
   "attachments": {},
   "cell_type": "markdown",
   "metadata": {},
   "source": [
    "Calculating the mean, variance, standard deviation, and median of monthly call duration for both plans."
   ]
  },
  {
   "cell_type": "code",
   "execution_count": 28,
   "metadata": {},
   "outputs": [
    {
     "data": {
      "text/html": [
       "<div>\n",
       "<style scoped>\n",
       "    .dataframe tbody tr th:only-of-type {\n",
       "        vertical-align: middle;\n",
       "    }\n",
       "\n",
       "    .dataframe tbody tr th {\n",
       "        vertical-align: top;\n",
       "    }\n",
       "\n",
       "    .dataframe thead tr th {\n",
       "        text-align: left;\n",
       "    }\n",
       "\n",
       "    .dataframe thead tr:last-of-type th {\n",
       "        text-align: right;\n",
       "    }\n",
       "</style>\n",
       "<table border=\"1\" class=\"dataframe\">\n",
       "  <thead>\n",
       "    <tr>\n",
       "      <th></th>\n",
       "      <th>mean</th>\n",
       "      <th>var</th>\n",
       "      <th>std</th>\n",
       "      <th>median</th>\n",
       "    </tr>\n",
       "    <tr>\n",
       "      <th></th>\n",
       "      <th>total_minutes</th>\n",
       "      <th>total_minutes</th>\n",
       "      <th>total_minutes</th>\n",
       "      <th>total_minutes</th>\n",
       "    </tr>\n",
       "    <tr>\n",
       "      <th>plan</th>\n",
       "      <th></th>\n",
       "      <th></th>\n",
       "      <th></th>\n",
       "      <th></th>\n",
       "    </tr>\n",
       "  </thead>\n",
       "  <tbody>\n",
       "    <tr>\n",
       "      <th>surf</th>\n",
       "      <td>428.749523</td>\n",
       "      <td>54968.279461</td>\n",
       "      <td>234.453150</td>\n",
       "      <td>425</td>\n",
       "    </tr>\n",
       "    <tr>\n",
       "      <th>ultimate</th>\n",
       "      <td>430.450000</td>\n",
       "      <td>57844.464812</td>\n",
       "      <td>240.508762</td>\n",
       "      <td>424</td>\n",
       "    </tr>\n",
       "  </tbody>\n",
       "</table>\n",
       "</div>"
      ],
      "text/plain": [
       "                  mean           var           std        median\n",
       "         total_minutes total_minutes total_minutes total_minutes\n",
       "plan                                                            \n",
       "surf        428.749523  54968.279461    234.453150           425\n",
       "ultimate    430.450000  57844.464812    240.508762           424"
      ]
     },
     "metadata": {},
     "output_type": "display_data"
    }
   ],
   "source": [
    "# Calculate the mean, variance, standard deviation, and median of the monthly call duration\n",
    "\n",
    "get_stats(df_plan_merged, 'plan', 'total_minutes')"
   ]
  },
  {
   "cell_type": "markdown",
   "metadata": {},
   "source": [
    "Plotting the distribution of average call duration per user by plan."
   ]
  },
  {
   "cell_type": "code",
   "execution_count": 29,
   "metadata": {},
   "outputs": [
    {
     "data": {
      "image/png": "[encoded data removed]",
      "text/plain": [
       "<Figure size 1500x500 with 2 Axes>"
      ]
     },
     "metadata": {},
     "output_type": "display_data"
    }
   ],
   "source": [
    "fig, axes = plt.subplots(1, 2, figsize=(15, 5))\n",
    "\n",
    "surf_calcs.groupby('user_id')['total_minutes'].mean().plot(kind='hist',\n",
    "                                                            bins=15,\n",
    "                                                            color='darkorange',\n",
    "                                                            ax=axes[0])\n",
    "ult_calcs.groupby('user_id')['total_minutes'].mean().plot(kind='hist',\n",
    "                                                            bins=15,\n",
    "                                                            alpha=0.5,\n",
    "                                                            ax=axes[0])\n",
    "\n",
    "axes[0].set_title('Distribution of Monthly Average Minutes per User by Plan')\n",
    "axes[0].set_xlabel('Average Total Minutes')\n",
    "axes[0].set_ylabel('Number of Users')\n",
    "axes[0].legend(['Surf','Ultimate'], loc='upper right')\n",
    "\n",
    "axes[1].boxplot([surf_calcs['total_minutes'], ult_calcs['total_minutes'], df_plan_merged['total_minutes']])\n",
    "axes[1].set_xticks((1,2,3))\n",
    "axes[1].set_title('Box Plot of Monthly Call Duration by Plan')\n",
    "axes[1].set_xticklabels(('Surf', 'Ultimate', 'Combined'))\n",
    "axes[1].set_xlabel('Plans')\n",
    "axes[1].set_ylabel('Monthly Minutes')\n",
    "\n",
    "plt.show()"
   ]
  },
  {
   "attachments": {},
   "cell_type": "markdown",
   "metadata": {},
   "source": [
    "While Ultimate customers have a higher variance than Surf customers, their average monthly usage is nearly the same.\n",
    "\n",
    "Aside from the few outlier points, the box plot shows the data is close to a normal distriubtion. From the box and bar plots, both plans reveal customers have very similar monthly call behaviors. Specifically, both set of subscribers have a median duration just above 400 minutes, with 25% and 75% quartile values of about 300 and 600 minutes, respectively. The median value is also close to the average for both plans.\n",
    "\n",
    "Based on the statistical data, we can see Surf customers generally stay just under their monthly call duration limit of 500 minutes, with most of the overages only exceeding the limit by about 100 minutes (i.e. 75% quartile of approximately 600 minutes). For the Ultimate dataset, all customers stay well within the 3000 minute limit, with only a few customers exceeding 1000 minutes.\n",
    "\n",
    "We can repeat the statistical analysis for text messages and data to glean more information regarding customer behavior."
   ]
  },
  {
   "attachments": {},
   "cell_type": "markdown",
   "metadata": {},
   "source": [
    "### Messages"
   ]
  },
  {
   "cell_type": "code",
   "execution_count": 30,
   "metadata": {},
   "outputs": [
    {
     "data": {
      "image/png": "[encoded data removed]",
      "text/plain": [
       "<Figure size 1000x500 with 1 Axes>"
      ]
     },
     "metadata": {},
     "output_type": "display_data"
    }
   ],
   "source": [
    "# Compare the average number of messages users of each plan tend to send each month\n",
    "\n",
    "surf_calcs.groupby('month')['total_messages'].mean().plot(kind='bar',\n",
    "                                                         figsize=(10, 5),\n",
    "                                                         color='darkorange')\n",
    "ult_calcs.groupby('month')['total_messages'].mean().plot(kind='bar', alpha=0.5)\n",
    "\n",
    "plt.title('Average Monthly Text Messages by Plan')\n",
    "plt.xlabel('Month')\n",
    "plt.ylabel('Average Text Messages Sent')\n",
    "plt.legend(['Surf','Ultimate'], loc='upper left')\n",
    "plt.show()"
   ]
  },
  {
   "attachments": {},
   "cell_type": "markdown",
   "metadata": {},
   "source": [
    "Calculating the mean, variance, standard deviation, and median of monthly text messages sent for both plans."
   ]
  },
  {
   "cell_type": "code",
   "execution_count": 31,
   "metadata": {},
   "outputs": [
    {
     "data": {
      "text/html": [
       "<div>\n",
       "<style scoped>\n",
       "    .dataframe tbody tr th:only-of-type {\n",
       "        vertical-align: middle;\n",
       "    }\n",
       "\n",
       "    .dataframe tbody tr th {\n",
       "        vertical-align: top;\n",
       "    }\n",
       "\n",
       "    .dataframe thead tr th {\n",
       "        text-align: left;\n",
       "    }\n",
       "\n",
       "    .dataframe thead tr:last-of-type th {\n",
       "        text-align: right;\n",
       "    }\n",
       "</style>\n",
       "<table border=\"1\" class=\"dataframe\">\n",
       "  <thead>\n",
       "    <tr>\n",
       "      <th></th>\n",
       "      <th>mean</th>\n",
       "      <th>var</th>\n",
       "      <th>std</th>\n",
       "      <th>median</th>\n",
       "    </tr>\n",
       "    <tr>\n",
       "      <th></th>\n",
       "      <th>total_messages</th>\n",
       "      <th>total_messages</th>\n",
       "      <th>total_messages</th>\n",
       "      <th>total_messages</th>\n",
       "    </tr>\n",
       "    <tr>\n",
       "      <th>plan</th>\n",
       "      <th></th>\n",
       "      <th></th>\n",
       "      <th></th>\n",
       "      <th></th>\n",
       "    </tr>\n",
       "  </thead>\n",
       "  <tbody>\n",
       "    <tr>\n",
       "      <th>surf</th>\n",
       "      <td>31.159568</td>\n",
       "      <td>1126.724522</td>\n",
       "      <td>33.566717</td>\n",
       "      <td>24</td>\n",
       "    </tr>\n",
       "    <tr>\n",
       "      <th>ultimate</th>\n",
       "      <td>37.551389</td>\n",
       "      <td>1208.756744</td>\n",
       "      <td>34.767179</td>\n",
       "      <td>30</td>\n",
       "    </tr>\n",
       "  </tbody>\n",
       "</table>\n",
       "</div>"
      ],
      "text/plain": [
       "                   mean            var            std         median\n",
       "         total_messages total_messages total_messages total_messages\n",
       "plan                                                                \n",
       "surf          31.159568    1126.724522      33.566717             24\n",
       "ultimate      37.551389    1208.756744      34.767179             30"
      ]
     },
     "metadata": {},
     "output_type": "display_data"
    }
   ],
   "source": [
    "# Calculate the mean, variance, standard deviation, and median of the monthly text messages sent\n",
    "\n",
    "get_stats(df_plan_merged, 'plan', 'total_messages')"
   ]
  },
  {
   "cell_type": "markdown",
   "metadata": {},
   "source": [
    "Plotting the distribution of average monthly texts sent per user by plan."
   ]
  },
  {
   "cell_type": "code",
   "execution_count": 32,
   "metadata": {},
   "outputs": [
    {
     "data": {
      "image/png": "[encoded data removed]",
      "text/plain": [
       "<Figure size 1500x500 with 2 Axes>"
      ]
     },
     "metadata": {},
     "output_type": "display_data"
    }
   ],
   "source": [
    "fig, axes = plt.subplots(1, 2, figsize=(15, 5))\n",
    "\n",
    "surf_calcs.groupby('user_id')['total_messages'].mean().plot(kind='hist',\n",
    "                                                            bins=15,\n",
    "                                                            color='darkorange',\n",
    "                                                            ax=axes[0])\n",
    "ult_calcs.groupby('user_id')['total_messages'].mean().plot(kind='hist',\n",
    "                                                            bins=15,\n",
    "                                                            alpha=0.5,\n",
    "                                                            ax=axes[0])\n",
    "\n",
    "axes[0].set_title('Distribution of Monthly Average Messages Sent per User by Plan')\n",
    "axes[0].set_xlabel('Average Total Messages')\n",
    "axes[0].set_ylabel('Number of Users')\n",
    "axes[0].legend(['Surf','Ultimate'], loc='upper right')\n",
    "\n",
    "axes[1].boxplot([surf_calcs['total_messages'], ult_calcs['total_messages'], df_plan_merged['total_messages']])\n",
    "axes[1].set_xticks((1,2,3))\n",
    "axes[1].set_title('Box Plot of Monthly Text Messages by Plan')\n",
    "axes[1].set_xticklabels(('Surf', 'Ultimate', 'Combined'))\n",
    "axes[1].set_xlabel('Plans')\n",
    "axes[1].set_ylabel('Monthly Text Messages')\n",
    "\n",
    "plt.show()"
   ]
  },
  {
   "attachments": {},
   "cell_type": "markdown",
   "metadata": {},
   "source": [
    "Both Surf and Ultimate plan customers exhibit similar trend behavior (i.e. positive skew for customer distributions and negative skew for average messages sent by month), but Ultimate plan customers appear to have a slightly higher average volume of text messages sent.\n",
    "\n",
    "The box plot shows a positive skew for both plans. From the box and bar plots for average monthly text messages sent, both plans reveal customers have similar texting behaviors in that both sets of customers generally text less than the overall average. Furthermore, we can see Surf customers generally stay within their monthly limit of 50 messages. In fact, based on the 75% quartile value, most Surf customers would fall within a limit of just above 50 messages per month. \n",
    "\n",
    "Of note, the data set shows all Ultimate customers stay well within their 1000 message limit."
   ]
  },
  {
   "attachments": {},
   "cell_type": "markdown",
   "metadata": {},
   "source": [
    "### Internet"
   ]
  },
  {
   "cell_type": "code",
   "execution_count": 33,
   "metadata": {},
   "outputs": [
    {
     "data": {
      "image/png": "[encoded data removed]",
      "text/plain": [
       "<Figure size 1000x800 with 1 Axes>"
      ]
     },
     "metadata": {},
     "output_type": "display_data"
    }
   ],
   "source": [
    "# Compare the average monthly data usage for users of each plan.\n",
    "\n",
    "surf_calcs.groupby('month')['total_gb_used'].mean().plot(kind='bar', figsize=(10, 8), color='darkorange')\n",
    "ult_calcs.groupby('month')['total_gb_used'].mean().plot(kind='bar', alpha=0.5)\n",
    "\n",
    "plt.title('Average Monthly Data Usage by Plan')\n",
    "plt.xlabel('Month')\n",
    "plt.ylabel('Average Total GBs Used')\n",
    "plt.legend(['Surf','Ultimate'], loc='upper left')\n",
    "plt.show()"
   ]
  },
  {
   "attachments": {},
   "cell_type": "markdown",
   "metadata": {},
   "source": [
    "Calculating the mean, variance, standard deviation, and median of monthly data usage for both plans."
   ]
  },
  {
   "cell_type": "code",
   "execution_count": 34,
   "metadata": {},
   "outputs": [
    {
     "data": {
      "text/html": [
       "<div>\n",
       "<style scoped>\n",
       "    .dataframe tbody tr th:only-of-type {\n",
       "        vertical-align: middle;\n",
       "    }\n",
       "\n",
       "    .dataframe tbody tr th {\n",
       "        vertical-align: top;\n",
       "    }\n",
       "\n",
       "    .dataframe thead tr th {\n",
       "        text-align: left;\n",
       "    }\n",
       "\n",
       "    .dataframe thead tr:last-of-type th {\n",
       "        text-align: right;\n",
       "    }\n",
       "</style>\n",
       "<table border=\"1\" class=\"dataframe\">\n",
       "  <thead>\n",
       "    <tr>\n",
       "      <th></th>\n",
       "      <th>mean</th>\n",
       "      <th>var</th>\n",
       "      <th>std</th>\n",
       "      <th>median</th>\n",
       "    </tr>\n",
       "    <tr>\n",
       "      <th></th>\n",
       "      <th>total_gb_used</th>\n",
       "      <th>total_gb_used</th>\n",
       "      <th>total_gb_used</th>\n",
       "      <th>total_gb_used</th>\n",
       "    </tr>\n",
       "    <tr>\n",
       "      <th>plan</th>\n",
       "      <th></th>\n",
       "      <th></th>\n",
       "      <th></th>\n",
       "      <th></th>\n",
       "    </tr>\n",
       "  </thead>\n",
       "  <tbody>\n",
       "    <tr>\n",
       "      <th>surf</th>\n",
       "      <td>16.670693</td>\n",
       "      <td>61.58360</td>\n",
       "      <td>7.847522</td>\n",
       "      <td>17</td>\n",
       "    </tr>\n",
       "    <tr>\n",
       "      <th>ultimate</th>\n",
       "      <td>17.306944</td>\n",
       "      <td>58.83055</td>\n",
       "      <td>7.670108</td>\n",
       "      <td>17</td>\n",
       "    </tr>\n",
       "  </tbody>\n",
       "</table>\n",
       "</div>"
      ],
      "text/plain": [
       "                  mean           var           std        median\n",
       "         total_gb_used total_gb_used total_gb_used total_gb_used\n",
       "plan                                                            \n",
       "surf         16.670693      61.58360      7.847522            17\n",
       "ultimate     17.306944      58.83055      7.670108            17"
      ]
     },
     "metadata": {},
     "output_type": "display_data"
    }
   ],
   "source": [
    "get_stats(df_plan_merged, 'plan', 'total_gb_used')"
   ]
  },
  {
   "attachments": {},
   "cell_type": "markdown",
   "metadata": {},
   "source": [
    "Plotting the distribution of average monthly data usage per user by plan."
   ]
  },
  {
   "cell_type": "code",
   "execution_count": 35,
   "metadata": {},
   "outputs": [
    {
     "data": {
      "image/png": "[encoded data removed]",
      "text/plain": [
       "<Figure size 1500x500 with 2 Axes>"
      ]
     },
     "metadata": {},
     "output_type": "display_data"
    }
   ],
   "source": [
    "fig, axes = plt.subplots(1, 2, figsize=(15, 5))\n",
    "\n",
    "surf_calcs.groupby('user_id')['total_gb_used'].mean().plot(kind='hist',\n",
    "                                                            bins=15,\n",
    "                                                            color='darkorange',\n",
    "                                                            ax=axes[0])\n",
    "ult_calcs.groupby('user_id')['total_gb_used'].mean().plot(kind='hist',\n",
    "                                                            bins=15,\n",
    "                                                            alpha=0.5,\n",
    "                                                            ax=axes[0])\n",
    "\n",
    "axes[0].set_title('Distribution of Monthly Average Data Used per User by Plan')\n",
    "axes[0].set_xlabel('Average GBs Used')\n",
    "axes[0].set_ylabel('Number of Users')\n",
    "axes[0].legend(['Surf','Ultimate'], loc='upper right')\n",
    "\n",
    "axes[1].boxplot([surf_calcs['total_gb_used'], ult_calcs['total_gb_used'], df_plan_merged['total_gb_used']])\n",
    "axes[1].set_xticks((1,2,3))\n",
    "axes[1].set_title('Box Plot of Monthly Data Usage by Plan')\n",
    "axes[1].set_xticklabels(('Surf', 'Ultimate', 'Combined'))\n",
    "axes[1].set_xlabel('Plans')\n",
    "axes[1].set_ylabel('Monthly Data Usage in GBs')\n",
    "\n",
    "plt.show()"
   ]
  },
  {
   "attachments": {},
   "cell_type": "markdown",
   "metadata": {},
   "source": [
    "Both Surf and Ultimate plan customers exhibit slightly different trend behavior. The average monthly data usage for Surf customers shows a slight negative skew, while Ultimate customers (aside from January and March) have a relatively uniform monthly average. Overall, Ultimate customers have higher data consumption by volume, but after May, both sets of customers show similar data consumption volumes. Distributions of users for the average amount of data used is nearly normal, with a few outliers on the high end.\n",
    "\n",
    "The box plot shows the data is close to a normal distriubtion. Aside from the few aforementioned exceptions, the box and bar plots for both plans reveal customers have very similar data usage behaviors. Specifically, both set of subscribers have a median data consumption close to the monthly average (just above 15 GBs), with 25% and 75% quartile values of about 13 and 21 GBs, respectively.\n",
    "\n",
    "Based on the statistical data, we can see only about half of Surf customers stayed under their 15 GB limit per month. In fact, about 75% of data use for Surf customers fall within approximately 20 GBs or less. For the Ultimate plan dataset, most customers stay within their 30 GB data limit. Ultimate customers that exceeded the limit generally consumed between 30 and 50 GBs during those months."
   ]
  },
  {
   "attachments": {},
   "cell_type": "markdown",
   "metadata": {},
   "source": [
    "### Revenue"
   ]
  },
  {
   "attachments": {},
   "cell_type": "markdown",
   "metadata": {},
   "source": [
    "Now that we've studied user behavior for both plans, we can analyze the revenue generated from both plans to glean additional insight. In short, if we assume customers stayed within their plan limits, we can calculate the expected revenue that should be generated based off of the monthly base charges. A deviation (e.g. higher than expected revenue generated) would indicate an overage in one of the plan's features."
   ]
  },
  {
   "cell_type": "code",
   "execution_count": 36,
   "metadata": {},
   "outputs": [
    {
     "data": {
      "image/png": "[encoded data removed]",
      "text/plain": [
       "<Figure size 1000x800 with 1 Axes>"
      ]
     },
     "metadata": {},
     "output_type": "display_data"
    }
   ],
   "source": [
    "# Compare the average revenue generated by each user each month for both plans.\n",
    "\n",
    "surf_calcs.groupby('month')['monthly_revenue'].mean().plot(kind='bar', figsize=(10, 8), color='darkorange')\n",
    "ult_calcs.groupby('month')['monthly_revenue'].mean().plot(kind='bar', alpha=0.5)\n",
    "\n",
    "plt.title('Average Monthly Revenue per User by Plan')\n",
    "plt.xlabel('Month')\n",
    "plt.ylabel('Average Monthly Revenue in USD')\n",
    "plt.legend(['Surf','Ultimate'], loc='upper left')\n",
    "plt.show()"
   ]
  },
  {
   "attachments": {},
   "cell_type": "markdown",
   "metadata": {},
   "source": [
    "Calculating the mean, variance, standard deviation, and median of monthly revenue for both plans."
   ]
  },
  {
   "cell_type": "code",
   "execution_count": 37,
   "metadata": {},
   "outputs": [
    {
     "data": {
      "text/html": [
       "<div>\n",
       "<style scoped>\n",
       "    .dataframe tbody tr th:only-of-type {\n",
       "        vertical-align: middle;\n",
       "    }\n",
       "\n",
       "    .dataframe tbody tr th {\n",
       "        vertical-align: top;\n",
       "    }\n",
       "\n",
       "    .dataframe thead tr th {\n",
       "        text-align: left;\n",
       "    }\n",
       "\n",
       "    .dataframe thead tr:last-of-type th {\n",
       "        text-align: right;\n",
       "    }\n",
       "</style>\n",
       "<table border=\"1\" class=\"dataframe\">\n",
       "  <thead>\n",
       "    <tr>\n",
       "      <th></th>\n",
       "      <th>mean</th>\n",
       "      <th>var</th>\n",
       "      <th>std</th>\n",
       "      <th>median</th>\n",
       "    </tr>\n",
       "    <tr>\n",
       "      <th></th>\n",
       "      <th>monthly_revenue</th>\n",
       "      <th>monthly_revenue</th>\n",
       "      <th>monthly_revenue</th>\n",
       "      <th>monthly_revenue</th>\n",
       "    </tr>\n",
       "    <tr>\n",
       "      <th>plan</th>\n",
       "      <th></th>\n",
       "      <th></th>\n",
       "      <th></th>\n",
       "      <th></th>\n",
       "    </tr>\n",
       "  </thead>\n",
       "  <tbody>\n",
       "    <tr>\n",
       "      <th>surf</th>\n",
       "      <td>60.706408</td>\n",
       "      <td>3067.835152</td>\n",
       "      <td>55.388042</td>\n",
       "      <td>40.36</td>\n",
       "    </tr>\n",
       "    <tr>\n",
       "      <th>ultimate</th>\n",
       "      <td>72.313889</td>\n",
       "      <td>129.848486</td>\n",
       "      <td>11.395108</td>\n",
       "      <td>70.00</td>\n",
       "    </tr>\n",
       "  </tbody>\n",
       "</table>\n",
       "</div>"
      ],
      "text/plain": [
       "                    mean             var             std          median\n",
       "         monthly_revenue monthly_revenue monthly_revenue monthly_revenue\n",
       "plan                                                                    \n",
       "surf           60.706408     3067.835152       55.388042           40.36\n",
       "ultimate       72.313889      129.848486       11.395108           70.00"
      ]
     },
     "metadata": {},
     "output_type": "display_data"
    }
   ],
   "source": [
    "get_stats(df_plan_merged, 'plan', 'monthly_revenue')"
   ]
  },
  {
   "cell_type": "markdown",
   "metadata": {},
   "source": [
    "Plotting the distribution of average monthly revenue per user by plan."
   ]
  },
  {
   "cell_type": "code",
   "execution_count": 38,
   "metadata": {},
   "outputs": [
    {
     "data": {
      "image/png": "[encoded data removed]",
      "text/plain": [
       "<Figure size 1500x500 with 2 Axes>"
      ]
     },
     "metadata": {},
     "output_type": "display_data"
    }
   ],
   "source": [
    "fig, axes = plt.subplots(1, 2, figsize=(15, 5))\n",
    "\n",
    "surf_calcs.groupby('user_id')['monthly_revenue'].mean().plot(kind='hist',\n",
    "                                                            bins=15,\n",
    "                                                            color='darkorange',\n",
    "                                                            ax=axes[0])\n",
    "ult_calcs.groupby('user_id')['monthly_revenue'].mean().plot(kind='hist',\n",
    "                                                            bins=15,\n",
    "                                                            alpha=0.5,\n",
    "                                                            ax=axes[0])\n",
    "\n",
    "axes[0].set_title('Distribution of Average Monthly Revenue per User by Plan')\n",
    "axes[0].set_xlabel('Average Monthly Revenue in USD')\n",
    "axes[0].set_ylabel('Number of Users')\n",
    "axes[0].set_xticks(range(20,320,20))\n",
    "axes[0].legend(['Surf','Ultimate'], loc='upper right')\n",
    "\n",
    "axes[1].boxplot([surf_calcs['monthly_revenue'], ult_calcs['monthly_revenue'], df_plan_merged['monthly_revenue']])\n",
    "axes[1].set_xticks((1,2,3))\n",
    "axes[1].set_title('Box Plot of Monthly Revenue per User by Plan')\n",
    "axes[1].set_xticklabels(('Surf', 'Ultimate', 'Combined'))\n",
    "axes[1].set_xlabel('Plans')\n",
    "axes[1].set_ylabel('Monthly Revenue per User')\n",
    "\n",
    "plt.show()"
   ]
  },
  {
   "attachments": {},
   "cell_type": "markdown",
   "metadata": {},
   "source": [
    "Both distributions exhibit a positive skew, which is expected based on additonal costs for plan overages. Monthly revenue per customer for the Ultimate plan is reasonbly close to the base cost of \\$70 per month, with a few instances of overages.\n",
    "\n",
    "The monthly revenue generated per customer in the Surf plan is highly varied, which suggests many Surf customers exceed their plan limit in at least one of the features. Based on the previous analysis of customer behavior and the customer distribution for monthly revenue, the additional revenue generated from overages are likely from data (Internet) use.\n",
    "\n",
    "The box plot further confirms our analysis regarding revenue differences for the plans. With a couple of exceptions, the Ultimate plan appears to generate near the expected amount of revenue each month per customer (i.e. customers do not exceed their plan's allotment). This is further supported by the median and average value being close to the base cost of \\$70. The Surf plan exhibits a positive skew with the median and mean values being above the base plan cost of \\$20."
   ]
  },
  {
   "attachments": {},
   "cell_type": "markdown",
   "metadata": {},
   "source": [
    "## Test Statistical Hypotheses"
   ]
  },
  {
   "attachments": {},
   "cell_type": "markdown",
   "metadata": {},
   "source": [
    "Now that we've analyzed some of the data from both plans and gained insight regarding customer behavior, we can develop and test a couple of stastical hypotheses. The tests will examine whether the average revenues from customers differ between the two plans (or rather how they differ), and whether average revenue from customers differ between certain regions."
   ]
  },
  {
   "attachments": {},
   "cell_type": "markdown",
   "metadata": {},
   "source": [
    "$H_0 \\text{ 1}$: The average revenue from Surf customers is equal to or greater than the price of the Ultimate plan.  \n",
    "$H_A \\text{ 1}$: The average revenue from Surf customers is less than the price of the Ultimate plan."
   ]
  },
  {
   "attachments": {},
   "cell_type": "markdown",
   "metadata": {},
   "source": [
    "Based on the analysis above, we know the revenue generated per month from the Surf plan is highly varied, with the average overall value being significantly higher than the baseline \\$20. Since we know there is a wide variety of revenue values in the Surf plan sample, and generally no variety in the Ultimate plan sample, we can perform a one-tailed test in order to aid Megaline's marketing team. Specifically, if we posit that the average revenue for Surf customers is at least 70 USD (equal to or greater than the Ultimate plan's baseline cost), the result of our t-test could suggest to the marketing team to prioritize Surf plan contracts. The alternative hypothesis would be that the average revenue from Surf customers is less than that of the Ultimate plan.\n",
    "\n",
    "In order to conduct this one-tailed test, we will use the ttest_1samp() method. The sample will be the monthly revenue from Surf plan customers. The sample mean will be compared to a target value equal to the price for the Ulimate plan of \\$70. The statistical significance to reject the null hypothesis does not need to be stringent and will remain as the conventional 5%. Of note, since we are conducting a one-tailed test, the p-value will be divided by 2 during the evaluation. "
   ]
  },
  {
   "cell_type": "code",
   "execution_count": 39,
   "metadata": {},
   "outputs": [
    {
     "name": "stdout",
     "output_type": "stream",
     "text": [
      "p-value:  3.907643940984577e-11\n",
      "Sample mean:  60.706408137317226\n",
      "We reject the null hypothesis: revenue was significantly less than $70\n"
     ]
    }
   ],
   "source": [
    "# Test the hypotheses\n",
    "\n",
    "sample_1 = surf_calcs['monthly_revenue']\n",
    "target_mean = 70\n",
    "alpha = 0.05\n",
    "\n",
    "results = st.ttest_1samp(sample_1, target_mean)\n",
    "                             \n",
    "print('p-value: ', results.pvalue)\n",
    "print('Sample mean: ', sample_1.mean())\n",
    "\n",
    "# if the p-value is less than alpha, and sample mean < target_mean, we reject the hypothesis\n",
    "\n",
    "if (results.pvalue/2 < alpha) and (sample_1.mean() < target_mean):\n",
    "    print(\"We reject the null hypothesis: revenue was significantly less than $70\")\n",
    "else:\n",
    "    print(\"We can't reject the null hypothesis\")"
   ]
  },
  {
   "attachments": {},
   "cell_type": "markdown",
   "metadata": {},
   "source": [
    "$H_0 \\text{ 2}$: The average revenue from customers in the NY-NJ is the same as average revenue from customers in other regions.  \n",
    "$H_A \\text{ 2}$: The average revenue from customers in the NY-NJ differs from the average revenue from customers in other regions."
   ]
  },
  {
   "attachments": {},
   "cell_type": "markdown",
   "metadata": {},
   "source": [
    "Rather than looking at plans, we can compare average revenue generated from customers among different regions. We'll specifically explore how the average revenue from customers in the NY-NJ areas compares to the average revenue from customers in other regions. For this test, we will posit that the average revenue will be the same, and alternatively, that the average will be different. A major difference for the samples in this test is that they can contain customers from either plan.\n",
    "\n",
    "Since we are concerned with the equality of means for two statistical populations, we will use the ttest_ind() method. In order to generate the two samples for our hypothesis, we can separate the users from our datasets by:\n",
    "- Slicing the user IDs for NY and NJ from the users DataFrame\n",
    "- Filtering those user IDs from the merged dataset to build the NY-NJ customer base\n",
    "- Filtering the inverse (i.e. not in) from the merged dataset to build the customers from other regions\n",
    "\n",
    "The Levene test was used to evaluate both sample's variance equality. The Levene test p-value is less than 1%, thus the equal_var() parameter will be set to False. The statistical significance to reject the null hypothesis does not need to be stringent and will remain as the conventional 5%."
   ]
  },
  {
   "cell_type": "code",
   "execution_count": 40,
   "metadata": {},
   "outputs": [
    {
     "name": "stdout",
     "output_type": "stream",
     "text": [
      "Levene p-value:  0.0015969343433827885\n",
      "T-test p-value:  0.10667494170371573\n",
      "We can't reject the null hypothesis\n"
     ]
    }
   ],
   "source": [
    "# Test the hypotheses\n",
    "\n",
    "nynj_users = df_users[(df_users['states'].str.find('NY') != -1) | (df_users['states'].str.find('NJ') != -1)]\n",
    "df_nynj_calcs = df_plan_merged.query('user_id in @nynj_users.user_id')\n",
    "df_other_calcs = df_plan_merged.query('user_id not in @nynj_users.user_id')\n",
    "\n",
    "sample_1 = df_nynj_calcs['monthly_revenue']\n",
    "sample_2 = df_other_calcs['monthly_revenue']\n",
    "\n",
    "print('Levene p-value: ', st.levene(sample_1, sample_2).pvalue)\n",
    "alpha = 0.05\n",
    "results = st.ttest_ind(sample_1, sample_2, equal_var = False)\n",
    "                             \n",
    "print('T-test p-value: ', results.pvalue)\n",
    "\n",
    "# if the p-value is less than alpha, we reject the hypothesis\n",
    "\n",
    "if results.pvalue < alpha:\n",
    "    print(\"We reject the null hypothesis\")\n",
    "else:\n",
    "    print(\"We can't reject the null hypothesis\")"
   ]
  },
  {
   "attachments": {},
   "cell_type": "markdown",
   "metadata": {},
   "source": [
    "Although this test does not prove that the average revenue from customers in both regions are the same, the p-value tells us that there is almost a 30% probability that an observation in our test is at least as extreme as our expected value (i.e. average revenue). This is significantly larger than our 5% threshold and indicates that our observation is not so unluckly to have occured by chance, thus we should not reject the null hypothesis."
   ]
  },
  {
   "attachments": {},
   "cell_type": "markdown",
   "metadata": {},
   "source": [
    "## Conclusion"
   ]
  },
  {
   "attachments": {},
   "cell_type": "markdown",
   "metadata": {},
   "source": [
    "Based on the analysis in this project, Megaline's marketing team should focus on advertising the Ultimate plan for revenue generation.\n",
    "\n",
    "The datasets for 2018 showed customers of both plans had very similar usage behaviors, with Ultimate customers having a slightly larger volume of texts and data usage. Generally, customers stayed within their plan limits, but Surf customers, on average, consistently exceeded their monthly data usage limit. At an extra \\$10 per GB in overages, this was likely the reason for the highly varied distribution of average monthly revenue among Surf customers. Conversely, Ultimate customers had minimal overages in 2018, as seen by the revenue distribution bias near the baseline value of 70 USD.\n",
    "\n",
    "Even though Surf plan customers had more overages, the result of our one-tailed test suggested that the average revenue generated from Surf plan customers was significantly less than the average/baseline price for the Ultimate plan. \n",
    "\n",
    "The result of the second t-test showed strong evidence that the average revenue generated from different regions are the same (specifically compared NY-NJ versus everywhere else). It is important to note that this does not necessarily make an implication between Surf and Ultimate plan revenue differences, but rather could suggest customer usage behavior doesn't necessarily change by region. In the scope of this project, the test result could show Megaline that advertisments do not have to be regionalized. Until more testing and analysis is conducted, it cannot be asserted whether or not the result of this test is remarkable enough to help marketing decisions."
   ]
  }
 ],
 "metadata": {
  "ExecuteTimeLog": [
   {
    "duration": 828,
    "start_time": "2021-11-16T09:21:11.304Z"
   },
   {
    "duration": 893,
    "start_time": "2021-11-16T09:21:17.728Z"
   },
   {
    "duration": 1150,
    "start_time": "2021-11-16T09:21:29.568Z"
   },
   {
    "duration": 3,
    "start_time": "2021-11-16T09:24:14.495Z"
   },
   {
    "duration": 120,
    "start_time": "2021-11-16T09:24:46.630Z"
   },
   {
    "duration": 3,
    "start_time": "2021-11-16T09:28:27.882Z"
   },
   {
    "duration": 4,
    "start_time": "2021-11-16T09:29:54.281Z"
   },
   {
    "duration": 3,
    "start_time": "2021-11-16T09:30:45.936Z"
   },
   {
    "duration": 4,
    "start_time": "2021-11-16T09:31:06.300Z"
   },
   {
    "duration": 113,
    "start_time": "2021-11-16T09:31:37.208Z"
   },
   {
    "duration": 143,
    "start_time": "2021-11-16T09:31:48.656Z"
   },
   {
    "duration": 98,
    "start_time": "2021-11-16T09:31:55.678Z"
   },
   {
    "duration": 3,
    "start_time": "2021-11-16T09:32:08.535Z"
   },
   {
    "duration": 111,
    "start_time": "2021-11-16T09:32:10.120Z"
   },
   {
    "duration": 3,
    "start_time": "2021-11-16T09:32:15.732Z"
   },
   {
    "duration": 4,
    "start_time": "2021-11-16T09:32:29.423Z"
   },
   {
    "duration": 3,
    "start_time": "2021-11-16T10:03:03.074Z"
   },
   {
    "duration": 3,
    "start_time": "2021-11-16T10:10:01.288Z"
   },
   {
    "duration": 3,
    "start_time": "2021-11-16T10:10:46.923Z"
   },
   {
    "duration": 121,
    "start_time": "2021-11-16T10:37:46.494Z"
   },
   {
    "duration": 125,
    "start_time": "2021-11-16T10:38:20.632Z"
   },
   {
    "duration": 112,
    "start_time": "2021-11-16T10:46:53.001Z"
   },
   {
    "duration": 110,
    "start_time": "2021-11-16T10:48:25.775Z"
   },
   {
    "duration": 3,
    "start_time": "2021-11-16T10:50:18.720Z"
   },
   {
    "duration": 4,
    "start_time": "2021-11-16T10:50:37.649Z"
   },
   {
    "duration": 2,
    "start_time": "2021-11-16T10:50:51.884Z"
   },
   {
    "duration": 3,
    "start_time": "2021-11-16T10:51:56.237Z"
   },
   {
    "duration": 101,
    "start_time": "2021-11-16T10:53:13.791Z"
   },
   {
    "duration": 3,
    "start_time": "2021-11-16T10:55:59.186Z"
   },
   {
    "duration": 3,
    "start_time": "2021-11-16T10:56:10.751Z"
   },
   {
    "duration": 3,
    "start_time": "2021-11-16T10:56:49.038Z"
   },
   {
    "duration": 3,
    "start_time": "2021-11-16T10:56:49.174Z"
   },
   {
    "duration": 4,
    "start_time": "2021-11-16T10:56:49.414Z"
   },
   {
    "duration": 3,
    "start_time": "2021-11-16T10:56:49.680Z"
   },
   {
    "duration": 3,
    "start_time": "2021-11-16T10:56:50.370Z"
   },
   {
    "duration": 114,
    "start_time": "2021-11-16T10:59:34.518Z"
   },
   {
    "duration": 3,
    "start_time": "2021-11-16T11:01:41.201Z"
   },
   {
    "duration": 116,
    "start_time": "2021-11-16T11:01:48.754Z"
   },
   {
    "duration": 3,
    "start_time": "2021-11-16T11:02:16.685Z"
   },
   {
    "duration": 3,
    "start_time": "2021-11-16T11:02:19.479Z"
   },
   {
    "duration": 3,
    "start_time": "2021-11-16T11:02:47.067Z"
   },
   {
    "duration": 3,
    "start_time": "2021-11-16T11:02:49.353Z"
   },
   {
    "duration": 3,
    "start_time": "2021-11-16T11:03:07.835Z"
   },
   {
    "duration": 3,
    "start_time": "2021-11-16T11:03:07.953Z"
   },
   {
    "duration": 112,
    "start_time": "2021-11-16T11:07:52.072Z"
   },
   {
    "duration": 187,
    "start_time": "2021-11-16T11:09:23.468Z"
   },
   {
    "duration": 4,
    "start_time": "2021-11-16T11:10:01.455Z"
   },
   {
    "duration": 3,
    "start_time": "2021-11-16T11:10:05.069Z"
   },
   {
    "duration": 4,
    "start_time": "2021-11-16T11:10:13.376Z"
   },
   {
    "duration": 3,
    "start_time": "2021-11-16T11:10:14.434Z"
   },
   {
    "duration": 3,
    "start_time": "2021-11-16T11:10:22.853Z"
   },
   {
    "duration": 4,
    "start_time": "2021-11-16T11:27:29.279Z"
   },
   {
    "duration": 4,
    "start_time": "2021-11-16T11:29:08.919Z"
   },
   {
    "duration": 118,
    "start_time": "2021-11-16T11:29:46.703Z"
   },
   {
    "duration": 437,
    "start_time": "2021-11-16T11:36:02.181Z"
   },
   {
    "duration": 157,
    "start_time": "2021-11-16T11:36:14.388Z"
   },
   {
    "duration": 207,
    "start_time": "2021-11-16T11:47:15.898Z"
   },
   {
    "duration": 3,
    "start_time": "2021-11-16T11:53:52.092Z"
   },
   {
    "duration": 3,
    "start_time": "2021-11-16T11:53:52.236Z"
   },
   {
    "duration": 3,
    "start_time": "2021-11-16T11:59:12.005Z"
   },
   {
    "duration": 112,
    "start_time": "2021-11-16T12:00:33.446Z"
   },
   {
    "duration": 3,
    "start_time": "2021-11-16T12:02:14.453Z"
   },
   {
    "duration": 3,
    "start_time": "2021-11-16T12:02:39.512Z"
   },
   {
    "duration": 106,
    "start_time": "2021-11-16T12:03:03.460Z"
   },
   {
    "duration": 3,
    "start_time": "2021-11-17T20:37:21.139Z"
   },
   {
    "duration": 3,
    "start_time": "2021-11-17T20:37:22.229Z"
   },
   {
    "duration": 3,
    "start_time": "2021-11-17T20:38:38.806Z"
   },
   {
    "duration": 3,
    "start_time": "2021-11-17T20:38:41.958Z"
   },
   {
    "duration": 3,
    "start_time": "2021-11-17T20:43:46.551Z"
   },
   {
    "duration": 4,
    "start_time": "2021-11-17T20:58:21.835Z"
   },
   {
    "duration": 3,
    "start_time": "2021-11-17T20:59:21.872Z"
   },
   {
    "duration": 4,
    "start_time": "2021-11-17T20:59:45.352Z"
   },
   {
    "duration": 4,
    "start_time": "2021-11-17T20:59:49.646Z"
   },
   {
    "duration": 159,
    "start_time": "2021-11-17T21:02:26.949Z"
   },
   {
    "duration": 3,
    "start_time": "2021-11-17T21:03:53.461Z"
   },
   {
    "duration": 3,
    "start_time": "2021-11-17T21:03:53.694Z"
   },
   {
    "duration": 3,
    "start_time": "2021-11-17T21:05:28.145Z"
   },
   {
    "duration": 116,
    "start_time": "2021-11-17T21:05:57.787Z"
   },
   {
    "duration": 3,
    "start_time": "2021-11-17T21:06:37.993Z"
   },
   {
    "duration": 3,
    "start_time": "2021-11-17T21:06:38.261Z"
   },
   {
    "duration": 3,
    "start_time": "2021-11-17T21:11:54.358Z"
   },
   {
    "duration": 3,
    "start_time": "2021-11-17T21:12:43.846Z"
   },
   {
    "duration": 4,
    "start_time": "2021-11-17T21:13:08.773Z"
   },
   {
    "duration": 3,
    "start_time": "2021-11-17T21:14:44.441Z"
   },
   {
    "duration": 3,
    "start_time": "2021-11-17T21:15:42.059Z"
   },
   {
    "duration": 4,
    "start_time": "2021-11-17T21:15:51.995Z"
   },
   {
    "duration": 3,
    "start_time": "2021-11-17T21:15:53.923Z"
   },
   {
    "duration": 3,
    "start_time": "2021-11-17T21:15:55.282Z"
   },
   {
    "duration": 3,
    "start_time": "2021-11-17T21:16:28.492Z"
   },
   {
    "duration": 3,
    "start_time": "2021-11-17T21:16:32.603Z"
   },
   {
    "duration": 3,
    "start_time": "2021-11-17T21:17:06.941Z"
   },
   {
    "duration": 98,
    "start_time": "2021-11-17T21:18:05.733Z"
   },
   {
    "duration": 4,
    "start_time": "2021-11-17T21:21:35.255Z"
   },
   {
    "duration": 3,
    "start_time": "2021-11-17T21:21:37.804Z"
   },
   {
    "duration": 4,
    "start_time": "2021-11-17T21:23:06.071Z"
   },
   {
    "duration": 3,
    "start_time": "2021-11-17T21:23:24.799Z"
   },
   {
    "duration": 3,
    "start_time": "2021-11-17T21:23:32.591Z"
   },
   {
    "duration": 98,
    "start_time": "2021-11-17T21:28:31.559Z"
   },
   {
    "duration": 3,
    "start_time": "2021-11-17T21:28:45.448Z"
   },
   {
    "duration": 3,
    "start_time": "2021-11-17T21:29:17.303Z"
   },
   {
    "duration": 3,
    "start_time": "2021-11-17T21:29:29.617Z"
   },
   {
    "duration": 3,
    "start_time": "2021-11-17T21:29:32.681Z"
   },
   {
    "duration": 3,
    "start_time": "2021-11-17T21:36:11.474Z"
   },
   {
    "duration": 3,
    "start_time": "2021-11-17T21:36:14.791Z"
   },
   {
    "duration": 3,
    "start_time": "2021-11-17T21:36:53.943Z"
   },
   {
    "duration": 3,
    "start_time": "2021-11-17T21:36:56.165Z"
   },
   {
    "duration": 4,
    "start_time": "2021-11-17T21:37:16.590Z"
   },
   {
    "duration": 3,
    "start_time": "2021-11-17T21:37:22.702Z"
   },
   {
    "duration": 4,
    "start_time": "2021-11-17T21:38:03.479Z"
   },
   {
    "duration": 3,
    "start_time": "2021-11-17T21:38:08.601Z"
   },
   {
    "duration": 3,
    "start_time": "2021-11-17T21:38:12.928Z"
   },
   {
    "duration": 3,
    "start_time": "2021-11-17T21:38:48.896Z"
   },
   {
    "duration": 2,
    "start_time": "2021-11-17T21:38:49.171Z"
   },
   {
    "duration": 4,
    "start_time": "2021-11-17T21:39:57.889Z"
   },
   {
    "duration": 3,
    "start_time": "2021-11-17T21:39:58.057Z"
   },
   {
    "duration": 3,
    "start_time": "2021-11-17T21:41:20.108Z"
   },
   {
    "duration": 3,
    "start_time": "2021-11-17T21:41:20.629Z"
   },
   {
    "duration": 3,
    "start_time": "2021-11-17T21:42:49.136Z"
   },
   {
    "duration": 3,
    "start_time": "2021-11-17T21:43:15.137Z"
   },
   {
    "duration": 4,
    "start_time": "2021-11-17T21:43:16.766Z"
   },
   {
    "duration": 4,
    "start_time": "2021-11-17T21:43:31.711Z"
   },
   {
    "duration": 3,
    "start_time": "2021-11-17T21:43:36.312Z"
   },
   {
    "duration": 4,
    "start_time": "2021-11-17T21:45:08.825Z"
   },
   {
    "duration": 4,
    "start_time": "2021-11-17T21:45:10.119Z"
   },
   {
    "duration": 4,
    "start_time": "2021-11-17T21:45:13.748Z"
   },
   {
    "duration": 3,
    "start_time": "2021-11-17T21:45:22.219Z"
   },
   {
    "duration": 3,
    "start_time": "2021-11-17T21:45:33.412Z"
   },
   {
    "duration": 2,
    "start_time": "2021-11-17T21:46:01.885Z"
   },
   {
    "duration": 3,
    "start_time": "2021-11-17T21:46:03.628Z"
   },
   {
    "duration": 107,
    "start_time": "2021-11-17T21:47:32.512Z"
   },
   {
    "duration": 103,
    "start_time": "2021-11-17T21:50:36.243Z"
   },
   {
    "duration": 3,
    "start_time": "2021-11-18T06:28:31.440Z"
   },
   {
    "duration": 3,
    "start_time": "2021-11-18T06:29:00.168Z"
   },
   {
    "duration": 3,
    "start_time": "2021-11-18T06:31:27.008Z"
   },
   {
    "duration": 2,
    "start_time": "2021-11-18T06:35:34.288Z"
   },
   {
    "duration": 2,
    "start_time": "2021-11-18T06:38:04.527Z"
   }
  ],
  "kernelspec": {
   "display_name": "Python 3",
   "language": "python",
   "name": "python3"
  },
  "language_info": {
   "codemirror_mode": {
    "name": "ipython",
    "version": 3
   },
   "file_extension": ".py",
   "mimetype": "text/x-python",
   "name": "python",
   "nbconvert_exporter": "python",
   "pygments_lexer": "ipython3",
   "version": "3.11.1"
  },
  "toc": {
   "base_numbering": 1,
   "nav_menu": {},
   "number_sections": true,
   "sideBar": true,
   "skip_h1_title": false,
   "title_cell": "Table of Contents",
   "title_sidebar": "Contents",
   "toc_cell": false,
   "toc_position": {
    "height": "calc(100% - 180px)",
    "left": "10px",
    "top": "150px",
    "width": "241.8px"
   },
   "toc_section_display": true,
   "toc_window_display": false
  },
  "vscode": {
   "interpreter": {
    "hash": "2acc139864183d3ac83c310a405f58714beffd069d122ecf4c167777b3a3f96a"
   }
  }
 },
 "nbformat": 4,
 "nbformat_minor": 2
}
